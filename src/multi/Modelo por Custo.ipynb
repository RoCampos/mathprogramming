{
 "cells": [
  {
   "cell_type": "markdown",
   "metadata": {},
   "source": [
    "# Criando modelo matemático"
   ]
  },
  {
   "cell_type": "code",
   "execution_count": 3,
   "metadata": {},
   "outputs": [],
   "source": [
    "from classes import Network, MulticastGroup\n",
    "from multicastpacking import MulticastPacking, solver\n",
    "import reader\n",
    "\n",
    "#instancen of the problem\n",
    "file = \"/Users/romeritocampos/HD/Doutorado/MPP_instances/n30/b30_1.brite\""
   ]
  },
  {
   "cell_type": "markdown",
   "metadata": {},
   "source": [
    "## lendo informações instância"
   ]
  },
  {
   "cell_type": "code",
   "execution_count": 4,
   "metadata": {},
   "outputs": [],
   "source": [
    "links = reader.get_network (file)\n",
    "net = Network (links, nodes = 30)"
   ]
  },
  {
   "cell_type": "code",
   "execution_count": 5,
   "metadata": {
    "collapsed": true
   },
   "outputs": [],
   "source": [
    "mgroups = [MulticastGroup (g) for g in reader.get_groups (file) ]"
   ]
  },
  {
   "cell_type": "markdown",
   "metadata": {},
   "source": [
    "## Grupos Multicast"
   ]
  },
  {
   "cell_type": "code",
   "execution_count": 6,
   "metadata": {},
   "outputs": [
    {
     "name": "stdout",
     "output_type": "stream",
     "text": [
      "[Id: 0\n",
      "Source: 6\n",
      "Traffic: 6\n",
      "Members: [23, 11, 20, 21, 24, 16, 25, 10, 15, 9, 29, 1]\n",
      ", Id: 1\n",
      "Source: 27\n",
      "Traffic: 14\n",
      "Members: [4, 26, 20, 6, 25]\n",
      ", Id: 2\n",
      "Source: 30\n",
      "Traffic: 11\n",
      "Members: [29, 12, 4, 14, 16, 26, 8]\n",
      ", Id: 3\n",
      "Source: 2\n",
      "Traffic: 4\n",
      "Members: [16, 11, 21, 29, 19]\n",
      ", Id: 4\n",
      "Source: 13\n",
      "Traffic: 10\n",
      "Members: [18, 4, 26]\n",
      "]\n"
     ]
    }
   ],
   "source": [
    "print (mgroups)"
   ]
  },
  {
   "cell_type": "markdown",
   "metadata": {},
   "source": [
    "## criando um problema"
   ]
  },
  {
   "cell_type": "code",
   "execution_count": 7,
   "metadata": {},
   "outputs": [
    {
     "name": "stdout",
     "output_type": "stream",
     "text": [
      "Warning: variable name \"x(1, 3, 1, 23)\" has a space\n",
      "Warning: constraint name \"('flow1', 1, 23)\" has a space\n",
      "Warning: to let Gurobi read it back, use rlp format\n",
      "Optimize a model with 4984 rows, 4440 columns and 15960 nonzeros\n",
      "Variable types: 0 continuous, 4440 integer (4440 binary)\n",
      "Coefficient statistics:\n",
      "  Matrix range     [1e+00, 1e+01]\n",
      "  Objective range  [5e+01, 9e+02]\n",
      "  Bounds range     [1e+00, 1e+00]\n",
      "  RHS range        [1e+00, 1e+02]\n",
      "Found heuristic solution: objective 49183\n",
      "Presolve removed 214 rows and 64 columns\n",
      "Presolve time: 0.08s\n",
      "Presolved: 4770 rows, 4376 columns, 15304 nonzeros\n",
      "Variable types: 0 continuous, 4376 integer (4376 binary)\n",
      "\n",
      "Root relaxation: objective 1.378173e+04, 1344 iterations, 0.03 seconds\n",
      "\n",
      "    Nodes    |    Current Node    |     Objective Bounds      |     Work\n",
      " Expl Unexpl |  Obj  Depth IntInf | Incumbent    BestBd   Gap | It/Node Time\n",
      "\n",
      "     0     0 13781.7273    0   20 49183.0000 13781.7273  72.0%     -    0s\n",
      "H    0     0                    13813.000000 13781.7273  0.23%     -    0s\n",
      "\n",
      "Explored 0 nodes (1886 simplex iterations) in 0.24 seconds\n",
      "Thread count was 4 (of 4 available processors)\n",
      "\n",
      "Solution count 2: 13813 49183 \n",
      "Pool objective bound 13813\n",
      "\n",
      "Optimal solution found (tolerance 1.00e-04)\n",
      "Best objective 1.381300000000e+04, best bound 1.381300000000e+04, gap 0.0000%\n"
     ]
    }
   ],
   "source": [
    "problem = MulticastPacking (net, mgroups)\n",
    "\n",
    "solver (problem)"
   ]
  },
  {
   "cell_type": "code",
   "execution_count": null,
   "metadata": {
    "collapsed": true
   },
   "outputs": [],
   "source": []
  }
 ],
 "metadata": {
  "kernelspec": {
   "display_name": "Python 2",
   "language": "python",
   "name": "python2"
  },
  "language_info": {
   "codemirror_mode": {
    "name": "ipython",
    "version": 2
   },
   "file_extension": ".py",
   "mimetype": "text/x-python",
   "name": "python",
   "nbconvert_exporter": "python",
   "pygments_lexer": "ipython2",
   "version": "2.7.10"
  }
 },
 "nbformat": 4,
 "nbformat_minor": 1
}
