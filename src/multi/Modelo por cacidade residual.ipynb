{
 "cells": [
  {
   "cell_type": "markdown",
   "metadata": {},
   "source": [
    "# Exemplo de Modelo MPP otimizando por capacidade residual\n",
    "\n",
    "\n",
    "$$Z = min_{(i,j) \\in E} \\left\\{ z_{ij} \\right\\}$$\n",
    "\n",
    "$$\\mbox{Subject to:}$$\n",
    "\n",
    "$$\\sum_{i \\in V}{x_{ir_k}^{kd}} - \\sum_{i \\in V}{x_{r_{k}i}^{kd}} = -1\\quad {\\forall k \\in K \\atop \\forall d \\in D^k}$$\n",
    "\n",
    "$$\\sum_{(i,d) \\in E}{x_{id}^{kd}} - \\sum_{(d,i) \\in E}{x_{di}^{kd}} = 1 \\quad {\\forall k \\in K \\atop \\forall d \\in D^k}$$\n",
    "\n",
    "$$\\sum_{(i,j) \\in E \\atop j \\neq r_k,d}{x_{ij}^{kd}} - \\sum_{(i,j) \\in E \\atop j \\neq r_k,d}{x_{ji}^{kd}} = 0 \\quad {\\forall k \\in K \\atop \\forall d \\in D^k}$$\n",
    "\n",
    "$$x_{ij}^{kd} \\leq y_{ij}^{k} \\quad \\forall k \\in K, d \\in D^k  \\text{ e }  \\forall (i,j) \\in E$$\n",
    "\n",
    "$$\\sum_{d \\in D^k}{x_{ij}^{kd}} - y_{ij}^{k} \\geq 0 \\quad \\forall k \\in K$$\n",
    "\n",
    "$$b_{ij}  \\geq \\sum_{k \\in K} y_{ij}^{k} t^k \\quad \\forall (i,j) \\in E$$\n",
    "\n",
    "$$b_{ij}  - \\sum_{k \\in K} y_{ij}^{k} t^k = z_{ij} \\quad \\forall (i,j) \\in E$$\n",
    "\n",
    "$$\\sum_{(i,j) \\in E} y_{ij}^{k} c_{ij} \\leq B, \\quad \\forall k \\in K$$\n",
    "\n",
    "$$x_{ij}^{kd} \\in \\lbrace 0, 1 \\rbrace , y_{ij}^{k} \\in \\lbrace 0, 1 \\rbrace  {{\\forall k \\in K,  \\forall d \\in D^k} \\atop \\forall (i,j) \\in E}$$\n",
    "\n",
    "\n"
   ]
  },
  {
   "cell_type": "markdown",
   "metadata": {},
   "source": [
    "# Obtendo informações da rede e dos grupos"
   ]
  },
  {
   "cell_type": "code",
   "execution_count": 6,
   "metadata": {
    "collapsed": true
   },
   "outputs": [],
   "source": [
    "from classes import Network, MulticastGroup\n",
    "from multicastpacking import MulticastPacking, solver\n",
    "import reader\n",
    "\n",
    "#instancen of the problem\n",
    "file = \"../../../MPP_instances/n30/b30_1.brite\"\n",
    "\n",
    "links = reader.get_network (file)\n",
    "net = Network (links, nodes = 30)\n",
    "\n",
    "\n",
    "mgroups = [MulticastGroup (g) for g in reader.get_groups (file) ]\n",
    "\n",
    "problem = MulticastPacking (net, mgroups)\n",
    "\n",
    "KSIZE = len(problem.groups)+1\n",
    "NODES = net.nodes+1"
   ]
  },
  {
   "cell_type": "markdown",
   "metadata": {},
   "source": [
    "# Criando as restrições de Fluxo"
   ]
  },
  {
   "cell_type": "markdown",
   "metadata": {},
   "source": [
    "## Criando as variáveis do problema: $x_{ij}^{kd}, y_{ij}^{k}$"
   ]
  },
  {
   "cell_type": "code",
   "execution_count": 7,
   "metadata": {
    "collapsed": true
   },
   "outputs": [],
   "source": [
    "from gurobipy import *\n",
    "\n",
    "m = Model (\"MPP by Cost\")\n",
    "\n",
    "var_x = {}\n",
    "var_y = {}\n",
    "\n",
    "#variable x\n",
    "for link in net.links:\n",
    "    for k in xrange (1, KSIZE):\n",
    "        for d in problem.groups[k-1].members:\n",
    "            x=link[0],link[1],k,d,\n",
    "            y=link[1],link[0],k,d,\n",
    "            var_x[x] = m.addVar(vtype=GRB.BINARY, obj=1, name=str(x))\n",
    "            var_x[y] = m.addVar(vtype=GRB.BINARY, obj=1, name=str(y))\n",
    "            \n",
    "m.update ()\n",
    "\n",
    "#variable y\n",
    "for k in xrange (1, KSIZE):\n",
    "    for link in net.links:\n",
    "        x=link[0],link[1],k\n",
    "        y=link[1],link[0],k\n",
    "        var_y[x] = m.addVar(vtype=GRB.BINARY, obj=1, name=str(x))\n",
    "        var_y[y] = m.addVar(vtype=GRB.BINARY, obj=1, name=str(y))\n",
    "\n",
    "m.update ()"
   ]
  },
  {
   "cell_type": "markdown",
   "metadata": {},
   "source": [
    "## Fluxo 1:  \n",
    "\n",
    "$\\sum_{i \\in V} x_{ij}^{kd} - \\sum_{i \\in V} x_{ji}^{kd} = -1 \\quad \\forall k \\in K,\\forall d \\in D^k$ "
   ]
  },
  {
   "cell_type": "code",
   "execution_count": 8,
   "metadata": {},
   "outputs": [],
   "source": [
    "for k in xrange (1, KSIZE):\n",
    "    for d in problem.groups[k-1].members:\n",
    "        sk = problem.groups[k-1].source\n",
    "        _name='flow1',k,d\n",
    "        m.addConstr (\n",
    "            quicksum ( var_x[x] for x in tuplelist (var_x).select ('*',sk,k,d) )\n",
    "            -\n",
    "            quicksum ( var_x[x] for x in tuplelist (var_x).select (sk,'*',k,d) )\n",
    "            == -1,\n",
    "            name=str(_name)\n",
    "        )\n",
    "\n",
    "m.update ()"
   ]
  },
  {
   "cell_type": "markdown",
   "metadata": {},
   "source": [
    "## Fluxo 2: \n",
    "\n",
    "$\\sum_{(i,j) \\in E,  j \\notin [r_k, d]} x_{ij}^{kd} - \\sum_{(i,j) \\in E, j \\notin [r_k, d]} x_{ji}^{kd} = 0 \\quad \\forall k \\in K,\\forall d \\in D^k$ "
   ]
  },
  {
   "cell_type": "code",
   "execution_count": 9,
   "metadata": {},
   "outputs": [],
   "source": [
    "for k in xrange (1, KSIZE):\n",
    "    for d in problem.groups[k-1].members:\n",
    "        for j in xrange(1,NODES):\n",
    "            sk = problem.groups[k-1].source\n",
    "            _name='flow2',k,d,j,       \n",
    "            m.addConstr (\n",
    "                quicksum(\n",
    "                   var_x[x] for x in tuplelist (var_x).select ('*',j,k,d) \n",
    "                    if x[1] not in [sk, d]\n",
    "                )\n",
    "                -\n",
    "                quicksum(\n",
    "                    var_x[x] for x in tuplelist (var_x).select (j,'*',k,d) \n",
    "                    if x[0] not in [sk, d]\n",
    "                )\n",
    "                == 0,\n",
    "                name=str(_name)\n",
    "            )            \n",
    "\n",
    "m.update ()"
   ]
  },
  {
   "cell_type": "markdown",
   "metadata": {},
   "source": [
    "\n",
    "## Fluxo 3:  \n",
    "\n",
    "$$\\sum_{(d,i) \\in E} x_{di}^{kd} - \\sum_{(i,d) \\in E} x_{id}^{kd} = 1 \\quad \\forall k \\in K,\\forall d \\in D^k$$"
   ]
  },
  {
   "cell_type": "code",
   "execution_count": 10,
   "metadata": {
    "collapsed": true
   },
   "outputs": [],
   "source": [
    "for k in xrange (1, KSIZE):\n",
    "    for d in problem.groups[k-1].members:\n",
    "        sk = problem.groups[k-1].source\n",
    "        _name='flow3',k,d\n",
    "        m.addConstr (\n",
    "            quicksum (\n",
    "                var_x[x] for x in tuplelist (var_x).select ('*',d,k,d)\n",
    "            )\n",
    "            -\n",
    "            quicksum (\n",
    "                var_x[x] for x in tuplelist (var_x).select (d,'*',k,d)\n",
    "            )\n",
    "            == 1,\n",
    "            name=str(_name)\n",
    "        )\n",
    "        \n",
    "m.update ()"
   ]
  },
  {
   "cell_type": "markdown",
   "metadata": {},
   "source": [
    "## Restrição que Força $y_{ij}^{k}$ ser igual 1 se a aresta $(i,j)$ é usada por alguma árvore"
   ]
  },
  {
   "cell_type": "code",
   "execution_count": 11,
   "metadata": {
    "collapsed": true
   },
   "outputs": [],
   "source": [
    "for k in xrange (1, KSIZE):\n",
    "    for d in problem.groups[k-1].members:\n",
    "        for link in net.links:\n",
    "            x=link[0],link[1],k,d,\n",
    "            y=link[0],link[1],k\n",
    "            _name='r4',link[0],link[1],k,d\n",
    "            m.addConstr ( var_x[x] <= var_y[y], \n",
    "                name=str(_name)\n",
    "            )            \n",
    "            x=link[1],link[0],k,d,\n",
    "            y=link[1],link[0],k\n",
    "            _name='r4',link[1],link[0],k,d\n",
    "            m.addConstr ( var_x[x] <= var_y[y], \n",
    "                name=str(_name)\n",
    "            )\n",
    "m.update ()"
   ]
  },
  {
   "cell_type": "markdown",
   "metadata": {},
   "source": [
    "## Restrição que evita nós folhas não terminais."
   ]
  },
  {
   "cell_type": "code",
   "execution_count": 12,
   "metadata": {},
   "outputs": [],
   "source": [
    "for k in xrange(1,KSIZE):\n",
    "    for link in net.links:\n",
    "        _name='out',link[0],link[1],k\n",
    "        m.addConstr(\n",
    "            quicksum(\n",
    "                  var_x[x] for x in tuplelist (var_x).select (link[0],link[1],k,'*')              \n",
    "            )\n",
    "            -\n",
    "            var_y[link[0],link[1],k]\n",
    "            >=\n",
    "            0,\n",
    "            name=str(_name)\n",
    "        )\n",
    "        _name='out',link[1],link[0],k,\n",
    "        \n",
    "        m.addConstr(\n",
    "            quicksum(\n",
    "                  var_x[x] for x in tuplelist (var_x).select (link[1],link[0],k,'*')              \n",
    "            )\n",
    "            -\n",
    "            var_y[link[1],link[0],k]\n",
    "            >=\n",
    "            0,\n",
    "            name=str(_name)\n",
    "        )\n",
    "m.update()"
   ]
  },
  {
   "cell_type": "code",
   "execution_count": 47,
   "metadata": {},
   "outputs": [
    {
     "name": "stdout",
     "output_type": "stream",
     "text": [
      "<gurobi.Model MIP instance MPP by Cost: 5432 constrs, 4440 vars, Parameter changes: LogFile=gurobi.log>\n"
     ]
    }
   ],
   "source": [
    "print (m)"
   ]
  },
  {
   "cell_type": "markdown",
   "metadata": {},
   "source": [
    "# Criando Variável para Capacidade Residual"
   ]
  },
  {
   "cell_type": "code",
   "execution_count": 15,
   "metadata": {},
   "outputs": [],
   "source": [
    "Z = m.addVar(vtype=GRB.INTEGER, name=\"Z\", obj=1)\n",
    "m.update ()"
   ]
  },
  {
   "cell_type": "markdown",
   "metadata": {},
   "source": [
    "## Forçando todos os links terem pelo menos a mesma capacidade Z \n",
    "\n",
    "$b_{ij} - \\sum_{k \\in K} y_{ij}^{k}t^{k} $"
   ]
  },
  {
   "cell_type": "code",
   "execution_count": 16,
   "metadata": {},
   "outputs": [],
   "source": [
    "for k in xrange(1,KSIZE):\n",
    "    for link in net.links:\n",
    "        _name='cap',k,link[0],link[1]\n",
    "        m.addConstr (\n",
    "            net.links[link][1] - quicksum ( var_y[i] * problem.groups[ i[2]-1 ].traffic\n",
    "                                           for i in tuplelist (var_y).select (link[0],link[1],'*') ) \n",
    "            >= \n",
    "            Z,\n",
    "            name=str(_name)\n",
    "        )\n",
    "        _name='cap',k,link[1],link[0]\n",
    "        m.addConstr (\n",
    "            net.links[link][1] - quicksum ( var_y[i] * problem.groups[ i[2]-1 ].traffic\n",
    "                                           for i in tuplelist (var_y).select (link[1],link[0],'*') ) \n",
    "            >= \n",
    "            Z,\n",
    "            name=str(_name)\n",
    "        )\n",
    "m.update ()     "
   ]
  },
  {
   "cell_type": "markdown",
   "metadata": {},
   "source": [
    "# Restrição de Hop: Atributo de QoS:\n",
    "$$ \\sum_{(i,j) \\in E} x_{ij}^{k} <= HOP \\quad \\forall k \\in K, \\forall d \\in D^k$$\n"
   ]
  },
  {
   "cell_type": "code",
   "execution_count": 17,
   "metadata": {},
   "outputs": [],
   "source": [
    "HOP = 5\n",
    "for k in xrange(1, KSIZE):\n",
    "    for d in problem.groups[k-1].members:\n",
    "        _name='hop',k,d\n",
    "        m.addConstr(\n",
    "            quicksum(\n",
    "                 var_x[x] for x in tuplelist (var_x).select ('*','*',k,d)\n",
    "            )\n",
    "            <=\n",
    "            HOP,\n",
    "            name=str(_name)\n",
    "        )\n",
    "m.update ()"
   ]
  },
  {
   "cell_type": "markdown",
   "metadata": {},
   "source": [
    "# Função Objetivo"
   ]
  },
  {
   "cell_type": "code",
   "execution_count": 18,
   "metadata": {},
   "outputs": [],
   "source": [
    "m.setObjective (Z, GRB.MAXIMIZE)\n",
    "m.update ()"
   ]
  },
  {
   "cell_type": "code",
   "execution_count": 19,
   "metadata": {},
   "outputs": [
    {
     "name": "stdout",
     "output_type": "stream",
     "text": [
      "Optimize a model with 6096 rows, 4441 columns and 27240 nonzeros\n",
      "Coefficient statistics:\n",
      "  Matrix range    [1e+00, 1e+01]\n",
      "  Objective range [1e+00, 1e+00]\n",
      "  Bounds range    [1e+00, 1e+00]\n",
      "  RHS range       [1e+00, 1e+02]\n",
      "Presolve removed 578 rows and 15 columns\n",
      "Presolve time: 0.05s\n",
      "Presolved: 5518 rows, 4426 columns, 22838 nonzeros\n",
      "Variable types: 0 continuous, 4426 integer (4425 binary)\n",
      "\n",
      "Root relaxation: objective 3.340000e+01, 1281 iterations, 0.05 seconds\n",
      "\n",
      "    Nodes    |    Current Node    |     Objective Bounds      |     Work\n",
      " Expl Unexpl |  Obj  Depth IntInf | Incumbent    BestBd   Gap | It/Node Time\n",
      "\n",
      "     0     0   33.40000    0   34          -   33.40000      -     -    0s\n",
      "H    0     0                      28.0000000   33.40000  19.3%     -    0s\n",
      "     0     0   33.00000    0  144   28.00000   33.00000  17.9%     -    0s\n",
      "H    0     0                      29.0000000   33.00000  13.8%     -    0s\n",
      "     0     0   32.84746    0  233   29.00000   32.84746  13.3%     -    0s\n",
      "     0     0   32.60000    0  248   29.00000   32.60000  12.4%     -    0s\n",
      "H    0     0                      32.0000000   32.60000  1.87%     -    0s\n",
      "\n",
      "Cutting planes:\n",
      "  Gomory: 1\n",
      "  Cover: 8\n",
      "  Implied bound: 1\n",
      "  MIR: 7\n",
      "  Zero half: 4\n",
      "\n",
      "Explored 0 nodes (3745 simplex iterations) in 0.45 seconds\n",
      "Thread count was 2 (of 4 available processors)\n",
      "\n",
      "Optimal solution found (tolerance 1.00e-04)\n",
      "Best objective 3.200000000000e+01, best bound 3.200000000000e+01, gap 0.0%\n"
     ]
    }
   ],
   "source": [
    "m.optimize ()"
   ]
  },
  {
   "cell_type": "markdown",
   "metadata": {},
   "source": [
    "## Imprimindo solução no formato para avaliação"
   ]
  },
  {
   "cell_type": "code",
   "execution_count": 17,
   "metadata": {},
   "outputs": [],
   "source": [
    "for var in [x for x in tuplelist (var_y).select () if var_y[x].getAttr ('X') == 1.0]:\n",
    "    #print str(var)+\"=\"+ str(1)\n",
    "    pass\n",
    "\n",
    "list =  [x for x in tuplelist (var_y).select () if var_y[x].getAttr ('X') == 1.0]\n",
    "\n",
    "list = sorted (list, key=lambda tuple: tuple[2] )\n",
    "\n",
    "\n",
    "with open('out.opt','a') as f:\n",
    "    for var in list:\n",
    "        f.write (\"%s - %s:%s;\\n\" % (var[0],var[1],var[2]))\n"
   ]
  },
  {
   "cell_type": "code",
   "execution_count": null,
   "metadata": {
    "collapsed": true
   },
   "outputs": [],
   "source": []
  }
 ],
 "metadata": {
  "kernelspec": {
   "display_name": "Python 2",
   "language": "python",
   "name": "python2"
  },
  "language_info": {
   "codemirror_mode": {
    "name": "ipython",
    "version": 2
   },
   "file_extension": ".py",
   "mimetype": "text/x-python",
   "name": "python",
   "nbconvert_exporter": "python",
   "pygments_lexer": "ipython2",
   "version": "2.7.10"
  }
 },
 "nbformat": 4,
 "nbformat_minor": 1
}
