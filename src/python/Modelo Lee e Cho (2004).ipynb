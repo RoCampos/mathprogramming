{
 "cells": [
  {
   "cell_type": "markdown",
   "metadata": {},
   "source": [
    "# Modelo proposto por Lee e Cho (2004)\n",
    "\n",
    "Modelo adaptado para utilizar o custo da árvoare ao invés de utilizar o número de arestas como parâmetro.\n",
    "\n",
    "\n",
    "\n",
    "$$ Maximizar \\quad Z$$\n",
    "$$\\mbox{Subject to:}$$\n",
    "\n",
    "$$\\sum_{i \\in V}{x_{ir_k}^{kd}} - \\sum_{i \\in V}{x_{r_{k}i}^{kd}} = -1\\quad {\\forall k \\in K \\atop \\forall d \\in D^k}$$\n",
    "\n",
    "$$\\sum_{(i,d) \\in E}{x_{id}^{kd}} - \\sum_{(d,i) \\in E}{x_{di}^{kd}} = 1 \\quad {\\forall k \\in K \\atop \\forall d \\in D^k}$$\n",
    "\n",
    "$$\\sum_{(i,j) \\in E \\atop j \\neq r_k,d}{x_{ij}^{kd}} - \\sum_{(i,j) \\in E \\atop j \\neq r_k,d}{x_{ji}^{kd}} = 0 \\quad {\\forall k \\in K \\atop \\forall d \\in D^k}$$\n",
    "\n",
    "$$x_{ij}^{kd} \\leq y_{ij}^{k} \\quad \\forall k \\in K, d \\in D^k  \\text{ e }  \\forall (i,j) \\in E$$\n",
    "\n",
    "$$b_{ij}  - \\sum_{k \\in K} y_{ij}^{k} t^k >= Z \\quad \\forall (i,j) \\in E$$\n",
    "\n",
    "\n",
    "$$ \\sum_{(i,j) \\in E} y_{ij}^{k} * custo_{ij} <= OPT^{k} \\quad \\forall k \\in K$$\n",
    "\n",
    "\n",
    "$$x_{ij}^{kd} \\in \\lbrace 0, 1 \\rbrace , y_{ij}^{k} \\in \\lbrace 0, 1 \\rbrace  {{\\forall k \\in K,  \\forall d \\in D^k} \\atop \\forall (i,j) \\in E}$$"
   ]
  },
  {
   "cell_type": "markdown",
   "metadata": {},
   "source": [
    "## Lendo os dados da instância"
   ]
  },
  {
   "cell_type": "code",
   "execution_count": 121,
   "metadata": {
    "collapsed": true
   },
   "outputs": [],
   "source": [
    "from classes import Network, MulticastGroup\n",
    "from multicastpacking import MulticastPacking, solver\n",
    "import reader\n",
    "\n",
    "#instancen of the problem\n",
    "file = \"../../../MPP_instances/n120/b120_1.brite\"\n",
    "\n",
    "# listofopt = \"...\"\n",
    "\n",
    "links = reader.get_network (file)\n",
    "net = Network (links, nodes = 120)\n",
    "\n",
    "\n",
    "mgroups = [MulticastGroup (g) for g in reader.get_groups (file) ]\n",
    "\n",
    "problem = MulticastPacking (net, mgroups)\n",
    "\n",
    "KSIZE = len(problem.groups)+1\n",
    "NODES = net.nodes+1"
   ]
  },
  {
   "cell_type": "markdown",
   "metadata": {},
   "source": [
    "# Definição do Modelo"
   ]
  },
  {
   "cell_type": "markdown",
   "metadata": {},
   "source": [
    "## Variáveis\n",
    "\n",
    "$ x_{ij}^{kd} $ e $ y_{ij}^{k} $"
   ]
  },
  {
   "cell_type": "code",
   "execution_count": 122,
   "metadata": {
    "collapsed": true
   },
   "outputs": [],
   "source": [
    "from gurobipy import *\n",
    "\n",
    "m = Model (\"MPP by Cost\")\n",
    "\n",
    "var_x = {}\n",
    "var_y = {}\n",
    "\n",
    "for link in net.links:\n",
    "    for k in xrange (1, KSIZE):\n",
    "        for d in problem.groups[k-1].members:\n",
    "            x=link[0],link[1],k,d,\n",
    "            y=link[1],link[0],k,d,\n",
    "            var_x[x] = m.addVar(vtype=GRB.BINARY, obj=1, name=str(x))\n",
    "            var_x[y] = m.addVar(vtype=GRB.BINARY, obj=1, name=str(y))\n",
    "            \n",
    "\n",
    "for k in xrange (1, KSIZE):\n",
    "    for link in net.links:\n",
    "        x=link[0],link[1],k\n",
    "        y=link[1],link[0],k\n",
    "        var_y[x] = m.addVar(vtype=GRB.BINARY, obj=1, name=str(x))\n",
    "        var_y[y] = m.addVar(vtype=GRB.BINARY, obj=1, name=str(y))\n",
    "\n",
    "m.update ()\n",
    "\n",
    "Z = m.addVar(vtype=GRB.INTEGER, name=\"Z\", obj=1)\n",
    "m.update ()"
   ]
  },
  {
   "cell_type": "markdown",
   "metadata": {},
   "source": [
    "## Fluxo 1"
   ]
  },
  {
   "cell_type": "code",
   "execution_count": 123,
   "metadata": {
    "collapsed": true
   },
   "outputs": [],
   "source": [
    "for k in xrange (1, KSIZE):\n",
    "    for d in problem.groups[k-1].members:\n",
    "        sk = problem.groups[k-1].source\n",
    "        _name='flow1',k,d\n",
    "        m.addConstr (\n",
    "            quicksum ( var_x[x] for x in tuplelist (var_x).select ('*',sk,k,d) )\n",
    "            -\n",
    "            quicksum ( var_x[x] for x in tuplelist (var_x).select (sk,'*',k,d) )\n",
    "            == -1,\n",
    "            name=str(_name)\n",
    "        )\n",
    "\n",
    "m.update ()"
   ]
  },
  {
   "cell_type": "markdown",
   "metadata": {},
   "source": [
    "## Fluxo 2"
   ]
  },
  {
   "cell_type": "code",
   "execution_count": 124,
   "metadata": {
    "collapsed": true
   },
   "outputs": [],
   "source": [
    "for k in xrange (1, KSIZE):\n",
    "    for d in problem.groups[k-1].members:\n",
    "        for j in xrange(1,NODES):\n",
    "            sk = problem.groups[k-1].source\n",
    "            _name='flow2',k,d,j,       \n",
    "            m.addConstr (\n",
    "                quicksum(\n",
    "                   var_x[x] for x in tuplelist (var_x).select ('*',j,k,d) \n",
    "                    if x[1] not in [sk, d]\n",
    "                )\n",
    "                -\n",
    "                quicksum(\n",
    "                    var_x[x] for x in tuplelist (var_x).select (j,'*',k,d) \n",
    "                    if x[0] not in [sk, d]\n",
    "                )\n",
    "                == 0,\n",
    "                name=str(_name)\n",
    "            )            \n",
    "\n",
    "m.update ()"
   ]
  },
  {
   "cell_type": "markdown",
   "metadata": {},
   "source": [
    "## Fluxo 3"
   ]
  },
  {
   "cell_type": "code",
   "execution_count": 125,
   "metadata": {
    "collapsed": true
   },
   "outputs": [],
   "source": [
    "for k in xrange (1, KSIZE):\n",
    "    for d in problem.groups[k-1].members:\n",
    "        sk = problem.groups[k-1].source\n",
    "        _name='flow3',k,d\n",
    "        m.addConstr (\n",
    "            quicksum (\n",
    "                var_x[x] for x in tuplelist (var_x).select ('*',d,k,d)\n",
    "            )\n",
    "            -\n",
    "            quicksum (\n",
    "                var_x[x] for x in tuplelist (var_x).select (d,'*',k,d)\n",
    "            )\n",
    "            == 1,\n",
    "            name=str(_name)\n",
    "        )\n",
    "        \n",
    "m.update ()"
   ]
  },
  {
   "cell_type": "markdown",
   "metadata": {},
   "source": [
    "## Restrição que Força $y_{ij}^{k}$ ser igual 1 se a aresta $(i,j)$ é usada por alguma árvore:\n",
    "\n",
    "$$x_{ij}^{kd} \\leq y_{ij}^{k} \\quad \\forall k \\in K, d \\in D^k  \\text{ e }  \\forall (i,j) \\in E$$"
   ]
  },
  {
   "cell_type": "code",
   "execution_count": 126,
   "metadata": {
    "collapsed": true
   },
   "outputs": [],
   "source": [
    "for k in xrange (1, KSIZE):\n",
    "    for d in problem.groups[k-1].members:\n",
    "        for link in net.links:\n",
    "            x=link[0],link[1],k,d,\n",
    "            y=link[0],link[1],k\n",
    "            _name='mark',link[0],link[1],k,d\n",
    "            m.addConstr ( var_x[x] <= var_y[y], \n",
    "                name=str(_name)\n",
    "            )            \n",
    "            x=link[1],link[0],k,d,\n",
    "            y=link[1],link[0],k\n",
    "            _name='mark',link[1],link[0],k,d\n",
    "            m.addConstr ( var_x[x] <= var_y[y], \n",
    "                name=str(_name)\n",
    "            )\n",
    "m.update ()"
   ]
  },
  {
   "cell_type": "markdown",
   "metadata": {},
   "source": [
    "## Restrição de Capacidade"
   ]
  },
  {
   "cell_type": "code",
   "execution_count": 127,
   "metadata": {
    "collapsed": false
   },
   "outputs": [],
   "source": [
    "# constr = []\n",
    "\n",
    "# for link in net.links:    \n",
    "#     _name='capacity',link\n",
    "#     constr.append(\n",
    "#         m.addConstr (\n",
    "#             links[link][1]\n",
    "#             -\n",
    "#             quicksum (\n",
    "#                 (var_y[ (x[0],x[1],x[2]) ] + var_y[ (x[1],x[0],x[2]) ] )*problem.groups[x[2]-1].traffic\n",
    "#                     for x in tuplelist (var_y).select (link[1],link[0],'*')\n",
    "#             )\n",
    "#             >= Z,\n",
    "#             name=str(_name)\n",
    "#         )\n",
    "#     )\n",
    "# m.update ()\n",
    "\n",
    "for k in xrange(1,KSIZE):\n",
    "    for link in net.links:\n",
    "        _name='cap',k,link[0],link[1]\n",
    "        m.addConstr (\n",
    "            net.links[link][1] - quicksum ( var_y[i] * problem.groups[ i[2]-1 ].traffic\n",
    "                                           for i in tuplelist (var_y).select (link[0],link[1],'*') ) \n",
    "            >= \n",
    "            Z,\n",
    "            name=str(_name)\n",
    "        )\n",
    "        _name='cap',k,link[1],link[0]\n",
    "        m.addConstr (\n",
    "            net.links[link][1] - quicksum ( var_y[i] * problem.groups[ i[2]-1 ].traffic\n",
    "                                           for i in tuplelist (var_y).select (link[1],link[0],'*') ) \n",
    "            >= \n",
    "            Z,\n",
    "            name=str(_name)\n",
    "        )\n",
    "m.update ()  "
   ]
  },
  {
   "cell_type": "markdown",
   "metadata": {},
   "source": [
    "## Restrição de Custo Ótimo"
   ]
  },
  {
   "cell_type": "code",
   "execution_count": 128,
   "metadata": {
    "collapsed": false
   },
   "outputs": [],
   "source": [
    "list = [7026.0 , 6805.0 , 7498.0 , 7364.0 , 8145.0]\n",
    "\n",
    "def get_cost (net_, l):\n",
    "    if l in net_.links:\n",
    "        return net_.properties (l)[0]\n",
    "    else:\n",
    "        return net_.properties ( (l[1],l[0]) )[0]\n",
    "\n",
    "    \n",
    "LeeConstr = []\n",
    "for k in xrange(1, KSIZE):\n",
    "    \n",
    "    LeeConstr.append (\n",
    "        m.addConstr (    \n",
    "            quicksum (\n",
    "                var_y[y] * get_cost (net, (y[0],y[1]) )\n",
    "                for y in tuplelist(var_y).select ('*','*',k)            \n",
    "            )\n",
    "            <= 1.5*list[k-1],\n",
    "            name=str('kk')\n",
    "        )\n",
    "    )\n",
    "m.update ()"
   ]
  },
  {
   "cell_type": "markdown",
   "metadata": {},
   "source": [
    "## Função Objetivo"
   ]
  },
  {
   "cell_type": "code",
   "execution_count": 129,
   "metadata": {
    "collapsed": false
   },
   "outputs": [],
   "source": [
    "m.setObjective (Z, GRB.MAXIMIZE)\n",
    "m.update ()"
   ]
  },
  {
   "cell_type": "code",
   "execution_count": 141,
   "metadata": {
    "collapsed": false
   },
   "outputs": [
    {
     "name": "stdout",
     "output_type": "stream",
     "text": [
      "Warning: variable name \"(1, 34, 1, 114)\" has a space\n",
      "Warning: constraint name \"('flow1', 1, 114)\" has a space\n",
      "Warning: to let Gurobi read it back, use rlp format\n"
     ]
    }
   ],
   "source": [
    "for x in xrange(1,len(LeeConstr)):    \n",
    "    LeeConstr[x-1].setAttr (GRB.attr.RHS, 1.2*list[x-1])\n",
    "\n",
    "m.update ()\n",
    "\n",
    "m.write ('teste.lp')"
   ]
  },
  {
   "cell_type": "code",
   "execution_count": 142,
   "metadata": {
    "collapsed": false
   },
   "outputs": [
    {
     "name": "stdout",
     "output_type": "stream",
     "text": [
      "Optimize a model with 55381 rows, 44641 columns and 185760 nonzeros\n",
      "Coefficient statistics:\n",
      "  Matrix range    [1e+00, 1e+03]\n",
      "  Objective range [1e+00, 1e+00]\n",
      "  Bounds range    [1e+00, 1e+00]\n",
      "  RHS range       [1e+00, 1e+04]\n",
      "Presolve removed 2289 rows and 119 columns\n",
      "Presolve time: 0.45s\n",
      "Presolved: 53092 rows, 44522 columns, 173390 nonzeros\n",
      "\n",
      "Loaded MIP start with objective 26\n",
      "\n",
      "Variable types: 0 continuous, 44522 integer (44521 binary)\n",
      "\n",
      "Root simplex log...\n",
      "\n",
      "Iteration    Objective       Primal Inf.    Dual Inf.      Time\n",
      "   15230    5.0999840e+01   3.560458e+02   0.000000e+00      5s\n",
      "   16746    5.1000000e+01   0.000000e+00   0.000000e+00      6s\n",
      "\n",
      "Root relaxation: objective 5.100000e+01, 16746 iterations, 5.15 seconds\n",
      "\n",
      "    Nodes    |    Current Node    |     Objective Bounds      |     Work\n",
      " Expl Unexpl |  Obj  Depth IntInf | Incumbent    BestBd   Gap | It/Node Time\n",
      "\n",
      "     0     0   51.00000    0  251   26.00000   51.00000  96.2%     -    8s\n",
      "H    0     0                      45.0000000   51.00000  13.3%     -    9s\n",
      "     0     0   50.53336    0  652   45.00000   50.53336  12.3%     -   11s\n",
      "H    0     0                      47.0000000   50.53336  7.52%     -   11s\n",
      "     0     0   49.52752    0  408   47.00000   49.52752  5.38%     -   13s\n",
      "H    0     0                      48.0000000   49.52752  3.18%     -   13s\n",
      "     0     0     cutoff    0        48.00000   48.99995  2.08%     -   13s\n",
      "\n",
      "Cutting planes:\n",
      "  Gomory: 3\n",
      "  Cover: 8\n",
      "  Clique: 14\n",
      "  MIR: 6\n",
      "  Zero half: 3\n",
      "\n",
      "Explored 0 nodes (46166 simplex iterations) in 13.42 seconds\n",
      "Thread count was 2 (of 4 available processors)\n",
      "\n",
      "Optimal solution found (tolerance 1.00e-04)\n",
      "Best objective 4.800000000000e+01, best bound 4.800000000000e+01, gap 0.0%\n"
     ]
    }
   ],
   "source": [
    "m.optimize ()"
   ]
  },
  {
   "cell_type": "code",
   "execution_count": 91,
   "metadata": {
    "collapsed": false
   },
   "outputs": [
    {
     "ename": "GurobiError",
     "evalue": "Unable to retrieve attribute 'ObjVal'",
     "output_type": "error",
     "traceback": [
      "\u001b[1;31m---------------------------------------------------------------------------\u001b[0m",
      "\u001b[1;31mGurobiError\u001b[0m                               Traceback (most recent call last)",
      "\u001b[1;32m<ipython-input-91-53c84d301832>\u001b[0m in \u001b[0;36m<module>\u001b[1;34m()\u001b[0m\n\u001b[1;32m----> 1\u001b[1;33m \u001b[1;32mprint\u001b[0m \u001b[0mm\u001b[0m\u001b[1;33m.\u001b[0m\u001b[0mObjVal\u001b[0m\u001b[1;33m\u001b[0m\u001b[0m\n\u001b[0m",
      "\u001b[1;32mmodel.pxi\u001b[0m in \u001b[0;36mgurobipy.Model.__getattr__ (../../src/python/gurobipy.c:44603)\u001b[1;34m()\u001b[0m\n",
      "\u001b[1;32mmodel.pxi\u001b[0m in \u001b[0;36mgurobipy.Model.getAttr (../../src/python/gurobipy.c:56431)\u001b[1;34m()\u001b[0m\n",
      "\u001b[1;32mmodel.pxi\u001b[0m in \u001b[0;36mgurobipy.Model.__gettypedattr (../../src/python/gurobipy.c:75345)\u001b[1;34m()\u001b[0m\n",
      "\u001b[1;31mGurobiError\u001b[0m: Unable to retrieve attribute 'ObjVal'"
     ]
    }
   ],
   "source": [
    "print m.ObjVal"
   ]
  },
  {
   "cell_type": "code",
   "execution_count": null,
   "metadata": {
    "collapsed": true
   },
   "outputs": [],
   "source": []
  }
 ],
 "metadata": {
  "kernelspec": {
   "display_name": "Python 2",
   "language": "python",
   "name": "python2"
  },
  "language_info": {
   "codemirror_mode": {
    "name": "ipython",
    "version": 2
   },
   "file_extension": ".py",
   "mimetype": "text/x-python",
   "name": "python",
   "nbconvert_exporter": "python",
   "pygments_lexer": "ipython2",
   "version": "2.7.6"
  }
 },
 "nbformat": 4,
 "nbformat_minor": 0
}
