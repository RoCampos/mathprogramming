{
 "cells": [
  {
   "cell_type": "markdown",
   "metadata": {},
   "source": [
    "# Criando modelo matemático"
   ]
  },
  {
   "cell_type": "code",
   "execution_count": 1,
   "metadata": {
    "collapsed": true
   },
   "outputs": [],
   "source": [
    "from classes import Network, MulticastGroup\n",
    "from multicastpacking import MulticastPacking, solver\n",
    "import reader\n",
    "\n",
    "#instancen of the problem\n",
    "file = \"../../../MPP_instances/n30/b30_1.brite\""
   ]
  },
  {
   "cell_type": "markdown",
   "metadata": {},
   "source": [
    "## lendo informações instância"
   ]
  },
  {
   "cell_type": "code",
   "execution_count": 4,
   "metadata": {
    "collapsed": false
   },
   "outputs": [],
   "source": [
    "links = reader.get_network (file)\n",
    "net = Network (links, nodes = 30)"
   ]
  },
  {
   "cell_type": "code",
   "execution_count": 5,
   "metadata": {
    "collapsed": true
   },
   "outputs": [],
   "source": [
    "mgroups = [MulticastGroup (g) for g in reader.get_groups (file) ]"
   ]
  },
  {
   "cell_type": "markdown",
   "metadata": {},
   "source": [
    "## Grupos Multicast"
   ]
  },
  {
   "cell_type": "code",
   "execution_count": 9,
   "metadata": {
    "collapsed": false
   },
   "outputs": [
    {
     "name": "stdout",
     "output_type": "stream",
     "text": [
      "[Id: 0\n",
      "Source: 6\n",
      "Traffic: 6\n",
      "Members: [22, 10, 19, 20, 23, 15, 24, 9, 14, 8, 28, 0]\n",
      ", Id: 1\n",
      "Source: 27\n",
      "Traffic: 14\n",
      "Members: [3, 25, 19, 5, 24]\n",
      ", Id: 2\n",
      "Source: 30\n",
      "Traffic: 11\n",
      "Members: [28, 11, 3, 13, 15, 25, 7]\n",
      ", Id: 3\n",
      "Source: 2\n",
      "Traffic: 4\n",
      "Members: [15, 10, 20, 28, 18]\n",
      ", Id: 4\n",
      "Source: 13\n",
      "Traffic: 10\n",
      "Members: [17, 3, 25]\n",
      "]\n"
     ]
    }
   ],
   "source": [
    "print (mgroups)"
   ]
  },
  {
   "cell_type": "markdown",
   "metadata": {},
   "source": [
    "## criando um problema"
   ]
  },
  {
   "cell_type": "code",
   "execution_count": 15,
   "metadata": {
    "collapsed": false
   },
   "outputs": [
    {
     "name": "stdout",
     "output_type": "stream",
     "text": [
      "Warning: variable name \"x(1, 3, 1, 22)\" has a space\n",
      "Warning: constraint name \"('flow1', 1, 22)\" has a space\n",
      "Warning: to let Gurobi read it back, use rlp format\n",
      "Optimize a model with 4056 rows, 4440 columns and 15964 nonzeros\n",
      "Coefficient statistics:\n",
      "  Matrix range    [1e+00, 1e+01]\n",
      "  Objective range [5e+01, 9e+02]\n",
      "  Bounds range    [1e+00, 1e+00]\n",
      "  RHS range       [1e+00, 8e+01]\n",
      "Found heuristic solution: objective 19449\n",
      "Presolve removed 173 rows and 121 columns\n",
      "Presolve time: 0.04s\n",
      "Presolved: 3883 rows, 4319 columns, 11797 nonzeros\n",
      "Found heuristic solution: objective 18363.000000\n",
      "Variable types: 0 continuous, 4319 integer (4319 binary)\n",
      "\n",
      "Root relaxation: objective 2.756000e+03, 1587 iterations, 0.02 seconds\n",
      "\n",
      "    Nodes    |    Current Node    |     Objective Bounds      |     Work\n",
      " Expl Unexpl |  Obj  Depth IntInf | Incumbent    BestBd   Gap | It/Node Time\n",
      "\n",
      "*    0     0               0    2756.0000000 2756.00000  0.00%     -    0s\n",
      "\n",
      "Explored 0 nodes (1587 simplex iterations) in 0.08 seconds\n",
      "Thread count was 2 (of 4 available processors)\n",
      "\n",
      "Optimal solution found (tolerance 1.00e-04)\n",
      "Best objective 2.756000000000e+03, best bound 2.756000000000e+03, gap 0.0%\n"
     ]
    }
   ],
   "source": [
    "problem = MulticastPacking (net, mgroups)\n",
    "\n",
    "solver (problem)"
   ]
  },
  {
   "cell_type": "code",
   "execution_count": null,
   "metadata": {
    "collapsed": true
   },
   "outputs": [],
   "source": []
  }
 ],
 "metadata": {
  "kernelspec": {
   "display_name": "Python 2",
   "language": "python",
   "name": "python2"
  },
  "language_info": {
   "codemirror_mode": {
    "name": "ipython",
    "version": 2
   },
   "file_extension": ".py",
   "mimetype": "text/x-python",
   "name": "python",
   "nbconvert_exporter": "python",
   "pygments_lexer": "ipython2",
   "version": "2.7.6"
  }
 },
 "nbformat": 4,
 "nbformat_minor": 0
}
