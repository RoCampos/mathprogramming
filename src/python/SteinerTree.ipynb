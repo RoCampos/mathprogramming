{
 "cells": [
  {
   "cell_type": "markdown",
   "metadata": {},
   "source": [
    "# Modelo Matemática - Árvore de Steiner\n",
    "\n",
    "\n",
    "\n",
    "    definição do modelo goes here.\n",
    "\n"
   ]
  },
  {
   "cell_type": "markdown",
   "metadata": {},
   "source": [
    "## lendo dados"
   ]
  },
  {
   "cell_type": "code",
   "execution_count": 2,
   "metadata": {
    "collapsed": true
   },
   "outputs": [],
   "source": [
    "from classes import Network, MulticastGroup\n",
    "from multicastpacking import MulticastPacking, solver\n",
    "import reader\n",
    "\n",
    "#instancen of the problem\n",
    "file = \"../../../MPP_instances/n120/b120_1.brite\"\n",
    "\n",
    "# listofopt = \"...\"\n",
    "\n",
    "links = reader.get_network (file)\n",
    "net = Network (links, nodes = 120)\n",
    "\n",
    "\n",
    "mgroups = [MulticastGroup (g) for g in reader.get_groups (file) ]\n",
    "\n",
    "problem = MulticastPacking (net, mgroups)\n",
    "\n",
    "KSIZE = len(problem.groups)+1\n",
    "NODES = net.nodes+1"
   ]
  },
  {
   "cell_type": "markdown",
   "metadata": {},
   "source": [
    "## Definição de Variáveis"
   ]
  },
  {
   "cell_type": "code",
   "execution_count": 3,
   "metadata": {
    "collapsed": true
   },
   "outputs": [],
   "source": [
    "def create_variable (m, k, var_x, var_y):\n",
    "    for link in net.links:\n",
    "        y=link[0],link[1]\n",
    "        var_y[y]=m.addVar(vtype=GRB.BINARY, obj=1, name=str(y))\n",
    "        y=link[1],link[0]\n",
    "        var_y[y]=m.addVar(vtype=GRB.BINARY, obj=1, name=str(y))\n",
    "\n",
    "    m.update ()\n",
    "\n",
    "    for d in problem.groups[k-1].members:\n",
    "        for link in net.links:\n",
    "            y=link[0],link[1],d\n",
    "            var_x[y]=m.addVar(vtype=GRB.BINARY, obj=1, name=str(y))\n",
    "            y=link[1],link[0],d\n",
    "            var_x[y]=m.addVar(vtype=GRB.BINARY, obj=1, name=str(y))\n",
    "\n",
    "    m.update ()"
   ]
  },
  {
   "cell_type": "markdown",
   "metadata": {},
   "source": [
    "## Restrições de Fluxo"
   ]
  },
  {
   "cell_type": "code",
   "execution_count": 4,
   "metadata": {
    "collapsed": true
   },
   "outputs": [],
   "source": [
    "## fluxo 1\n",
    "\n",
    "#fluxo saindo da fonte sk para o destino d no grupo K\n",
    "\n",
    "def flow1 (m, k, var_x, var_y):\n",
    "    for d in problem.groups[k-1].members:\n",
    "        sk = problem.groups[k-1].source\n",
    "        _name='flow1',d\n",
    "        m.addConstr (\n",
    "            quicksum ( var_x[x] for x in tuplelist (var_x).select ('*',sk,d) )\n",
    "            -\n",
    "            quicksum ( var_x[x] for x in tuplelist (var_x).select (sk,'*',d) )\n",
    "            == -1,\n",
    "            name=str(_name)\n",
    "        )\n",
    "\n",
    "    m.update ()\n",
    "\n",
    "\n",
    "#fluxo chegando no destino d no grupo K\n",
    "def flow2 (m, k, var_x, var_y):\n",
    "    for d in problem.groups[k-1].members:\n",
    "        sk = problem.groups[k-1].source\n",
    "        _name='flow2',d\n",
    "        m.addConstr (\n",
    "            quicksum (\n",
    "                var_x[x] for x in tuplelist (var_x).select ('*',d,d)\n",
    "            )\n",
    "            -\n",
    "            quicksum (\n",
    "                var_x[x] for x in tuplelist (var_x).select (d,'*',d)\n",
    "            )\n",
    "            == 1,\n",
    "            name=str(_name)\n",
    "        )\n",
    "\n",
    "    m.update ()\n",
    "\n",
    "# conservação de fluxo\n",
    "def flow3 (m, k, var_x, var_y):\n",
    "    for d in problem.groups[k-1].members:\n",
    "        for j in xrange(1,NODES):\n",
    "            sk = problem.groups[k-1].source\n",
    "            _name='flow3',d,j   \n",
    "            m.addConstr (\n",
    "                quicksum(\n",
    "                    var_x[x] for x in tuplelist (var_x).select ('*',j,d) \n",
    "                    if x[1] not in [sk, d]\n",
    "                )\n",
    "                -\n",
    "                quicksum(\n",
    "                    var_x[x] for x in tuplelist (var_x).select (j,'*',d) \n",
    "                    if x[0] not in [sk, d]\n",
    "                )\n",
    "                == 0,\n",
    "                name=str(_name)\n",
    "            )            \n",
    "\n",
    "    m.update ()"
   ]
  },
  {
   "cell_type": "markdown",
   "metadata": {},
   "source": [
    "## Marcar aresta usada"
   ]
  },
  {
   "cell_type": "code",
   "execution_count": 5,
   "metadata": {
    "collapsed": false
   },
   "outputs": [],
   "source": [
    "\n",
    "def set_edge (m, k, var_x, var_y):\n",
    "    for d in problem.groups[k-1].members:\n",
    "        for link in net.links:\n",
    "            x=link[0],link[1],d\n",
    "            y=link[0],link[1]\n",
    "            _name='mark',link[0],link[1],d\n",
    "            m.addConstr ( var_x[x] <= var_y[y], \n",
    "                name=str(_name)\n",
    "            )            \n",
    "            x=link[1],link[0],d\n",
    "            y=link[1],link[0]\n",
    "            _name='mark',link[1],link[0],d\n",
    "            m.addConstr ( var_x[x] <= var_y[y], \n",
    "                name=str(_name)\n",
    "            )\n",
    "\n",
    "    m.update ()"
   ]
  },
  {
   "cell_type": "markdown",
   "metadata": {},
   "source": [
    "## Função Objetivo - Custo"
   ]
  },
  {
   "cell_type": "code",
   "execution_count": 6,
   "metadata": {
    "collapsed": true
   },
   "outputs": [],
   "source": [
    "\n",
    "def objective_custo (m, var_y, net):\n",
    "    m.setObjective (\n",
    "        quicksum (\n",
    "            var_y[(y[0],y[1])] * net.links[y][0] for y in net.links.keys ()\n",
    "        )\n",
    "        +\n",
    "        quicksum (\n",
    "            var_y[(y[1],y[0])] * net.links[y][0] for y in net.links.keys ()\n",
    "        )\n",
    "    )"
   ]
  },
  {
   "cell_type": "markdown",
   "metadata": {},
   "source": [
    "## Função Objetivo = Número de Links"
   ]
  },
  {
   "cell_type": "code",
   "execution_count": 7,
   "metadata": {
    "collapsed": true
   },
   "outputs": [],
   "source": [
    "\n",
    "def objective_links (m, var_y):\n",
    "    m.setObjective (\n",
    "        quicksum (\n",
    "            var_y[y] for y in tuplelist(var_y)\n",
    "        )\n",
    "    )"
   ]
  },
  {
   "cell_type": "markdown",
   "metadata": {},
   "source": [
    "## Modelo por Número de Links"
   ]
  },
  {
   "cell_type": "code",
   "execution_count": 8,
   "metadata": {
    "collapsed": false
   },
   "outputs": [],
   "source": [
    "from gurobipy import *\n",
    "\n",
    "m = Model ('Steiner Tree') #definindo objetov Model do gurobi\n",
    "\n",
    "var_y = {} #variável que marca arestas usadas\n",
    "var_x = {} #variável que controla o fluxo\n",
    "\n",
    "k = 1  # escolhendo árvore a ser optimizada\n",
    "\n",
    "create_variable (m, k, var_x, var_y)\n",
    "flow1 (m, k, var_x, var_y)\n",
    "flow2 (m, k, var_x, var_y)\n",
    "flow3 (m, k, var_x, var_y)\n",
    "set_edge (m, k, var_x, var_y)\n",
    "\n",
    "objective_links (m, var_y)"
   ]
  },
  {
   "cell_type": "code",
   "execution_count": 9,
   "metadata": {
    "collapsed": false
   },
   "outputs": [
    {
     "name": "stdout",
     "output_type": "stream",
     "text": [
      "Optimize a model with 7826 rows, 6720 columns and 24960 nonzeros\n",
      "Coefficient statistics:\n",
      "  Matrix range    [1e+00, 1e+00]\n",
      "  Objective range [1e+00, 1e+00]\n",
      "  Bounds range    [1e+00, 1e+00]\n",
      "  RHS range       [1e+00, 1e+00]\n",
      "Found heuristic solution: objective 362\n",
      "Presolve removed 44 rows and 18 columns\n",
      "Presolve time: 0.07s\n",
      "Presolved: 7782 rows, 6702 columns, 24900 nonzeros\n",
      "Variable types: 0 continuous, 6702 integer (6702 binary)\n",
      "\n",
      "Root relaxation: objective 2.200000e+01, 800 iterations, 0.06 seconds\n",
      "\n",
      "    Nodes    |    Current Node    |     Objective Bounds      |     Work\n",
      " Expl Unexpl |  Obj  Depth IntInf | Incumbent    BestBd   Gap | It/Node Time\n",
      "\n",
      "*    0     0               0      22.0000000   22.00000  0.00%     -    0s\n",
      "\n",
      "Explored 0 nodes (800 simplex iterations) in 0.32 seconds\n",
      "Thread count was 2 (of 4 available processors)\n",
      "\n",
      "Optimal solution found (tolerance 1.00e-04)\n",
      "Best objective 2.200000000000e+01, best bound 2.200000000000e+01, gap 0.0%\n"
     ]
    }
   ],
   "source": [
    "m.optimize ()"
   ]
  },
  {
   "cell_type": "markdown",
   "metadata": {},
   "source": [
    "### Código para Gerar dot da árvore"
   ]
  },
  {
   "cell_type": "code",
   "execution_count": 13,
   "metadata": {
    "collapsed": false
   },
   "outputs": [
    {
     "name": "stdout",
     "output_type": "stream",
     "text": [
      "digraph {\n",
      "\t114 [fillcolor=green style=filled]\n",
      "\t28 [fillcolor=green style=filled]\n",
      "\t59 [fillcolor=green style=filled]\n",
      "\t116 [fillcolor=green style=filled]\n",
      "\t89 [fillcolor=green style=filled]\n",
      "\t65 [fillcolor=green style=filled]\n",
      "\t88 [fillcolor=green style=filled]\n",
      "\t92 [fillcolor=green style=filled]\n",
      "\t78 [fillcolor=green style=filled]\n",
      "\t37 [fillcolor=green style=filled]\n",
      "\t97 [fillcolor=green style=filled]\n",
      "\t61 [fillcolor=green style=filled]\n",
      "\t19 [fillcolor=green style=filled]\n",
      "\t34 [fillcolor=blue style=filled]\n",
      "\t\t24 -> 28 [label=597]\n",
      "\t\t16 -> 88 [label=798]\n",
      "\t\t22 -> 61 [label=600]\n",
      "\t\t22 -> 9 [label=70]\n",
      "\t\t9 -> 65 [label=204]\n",
      "\t\t9 -> 44 [label=543]\n",
      "\t\t44 -> 97 [label=169]\n",
      "\t\t24 -> 22 [label=215]\n",
      "\t\t22 -> 110 [label=448]\n",
      "\t\t37 -> 24 [label=196]\n",
      "\t\t67 -> 92 [label=102]\n",
      "\t\t9 -> 78 [label=351]\n",
      "\t\t59 -> 67 [label=413]\n",
      "\t\t75 -> 89 [label=443]\n",
      "\t\t9 -> 75 [label=599]\n",
      "\t\t16 -> 37 [label=708]\n",
      "\t\t16 -> 23 [label=439]\n",
      "\t\t34 -> 16 [label=289]\n",
      "\t\t23 -> 59 [label=346]\n",
      "\t\t24 -> 19 [label=87]\n",
      "\t\t24 -> 116 [label=552]\n",
      "\t\t110 -> 114 [label=111]\n",
      "}\n"
     ]
    }
   ],
   "source": [
    "from graphviz import Digraph\n",
    "\n",
    "g = Digraph ()\n",
    "\n",
    "kid = k\n",
    "\n",
    "#style of nodes (sk, Dk)\n",
    "for d in problem.groups[kid-1].members:\n",
    "    g.node (str (d), style='filled', fillcolor='green')\n",
    "\n",
    "sk = problem.groups[kid-1].source\n",
    "g.node (str(sk), style='filled', fillcolor='blue')\n",
    "\n",
    "cost = 0.0\n",
    "for i in var_y:\n",
    "    name=var_y[i].getAttr ('varname')\n",
    "    v = m.getVarByName (str(i))    \n",
    "    l = i if i in net.links else (i[1],i[0]) #creating the right link to access properties\n",
    "    if v.getAttr('X') == 1:\n",
    "        g.edge ( str(i[0]) ,str(i[1]), str(net.properties(l)[0]) )\n",
    "        cost = cost + net.properties(l)[0]\n",
    "\n",
    "print (g.source)"
   ]
  },
  {
   "cell_type": "markdown",
   "metadata": {},
   "source": [
    "## Modelo por Custo"
   ]
  },
  {
   "cell_type": "code",
   "execution_count": 16,
   "metadata": {
    "collapsed": false
   },
   "outputs": [],
   "source": [
    "from gurobipy import *\n",
    "\n",
    "m2 = Model ('Steiner Tree') #definindo objetov Model do gurobi\n",
    "\n",
    "var_y_ = {} #variável que marca arestas usadas\n",
    "var_x_ = {} #variável que controla o fluxo\n",
    "\n",
    "k = 1  # escolhendo árvore a ser optimizada\n",
    "\n",
    "create_variable (m2, k, var_x_, var_y_)\n",
    "flow1 (m2, k, var_x_, var_y_)\n",
    "flow2 (m2, k, var_x_, var_y_)\n",
    "flow3 (m2, k, var_x_, var_y_)\n",
    "set_edge (m2, k, var_x_, var_y_)\n",
    "\n",
    "objective_custo (m2, var_y_, net)"
   ]
  },
  {
   "cell_type": "code",
   "execution_count": 17,
   "metadata": {
    "collapsed": false
   },
   "outputs": [
    {
     "name": "stdout",
     "output_type": "stream",
     "text": [
      "Optimize a model with 7826 rows, 6720 columns and 24960 nonzeros\n",
      "Coefficient statistics:\n",
      "  Matrix range    [1e+00, 1e+00]\n",
      "  Objective range [2e+01, 1e+03]\n",
      "  Bounds range    [1e+00, 1e+00]\n",
      "  RHS range       [1e+00, 1e+00]\n",
      "Found heuristic solution: objective 126495\n",
      "Presolve removed 44 rows and 18 columns\n",
      "Presolve time: 0.04s\n",
      "Presolved: 7782 rows, 6702 columns, 24900 nonzeros\n",
      "Variable types: 0 continuous, 6702 integer (6702 binary)\n",
      "\n",
      "Root relaxation: objective 7.026000e+03, 1901 iterations, 0.07 seconds\n",
      "\n",
      "    Nodes    |    Current Node    |     Objective Bounds      |     Work\n",
      " Expl Unexpl |  Obj  Depth IntInf | Incumbent    BestBd   Gap | It/Node Time\n",
      "\n",
      "*    0     0               0    7026.0000000 7026.00000  0.00%     -    0s\n",
      "\n",
      "Explored 0 nodes (1901 simplex iterations) in 0.12 seconds\n",
      "Thread count was 2 (of 4 available processors)\n",
      "\n",
      "Optimal solution found (tolerance 1.00e-04)\n",
      "Best objective 7.026000000000e+03, best bound 7.026000000000e+03, gap 0.0%\n"
     ]
    }
   ],
   "source": [
    "gm2.optimize ()"
   ]
  },
  {
   "cell_type": "markdown",
   "metadata": {},
   "source": [
    "### Código para Gerar dot da árvore"
   ]
  },
  {
   "cell_type": "code",
   "execution_count": 19,
   "metadata": {
    "collapsed": false
   },
   "outputs": [
    {
     "name": "stdout",
     "output_type": "stream",
     "text": [
      "digraph {\n",
      "\t114 [fillcolor=green style=filled]\n",
      "\t28 [fillcolor=green style=filled]\n",
      "\t59 [fillcolor=green style=filled]\n",
      "\t116 [fillcolor=green style=filled]\n",
      "\t89 [fillcolor=green style=filled]\n",
      "\t65 [fillcolor=green style=filled]\n",
      "\t88 [fillcolor=green style=filled]\n",
      "\t92 [fillcolor=green style=filled]\n",
      "\t78 [fillcolor=green style=filled]\n",
      "\t37 [fillcolor=green style=filled]\n",
      "\t97 [fillcolor=green style=filled]\n",
      "\t61 [fillcolor=green style=filled]\n",
      "\t19 [fillcolor=green style=filled]\n",
      "\t34 [fillcolor=blue style=filled]\n",
      "\t\t67 -> 59 [label=413]\n",
      "\t\t10 -> 5 [label=154]\n",
      "\t\t117 -> 110 [label=155]\n",
      "\t\t65 -> 9 [label=204]\n",
      "\t\t34 -> 1 [label=262]\n",
      "\t\t22 -> 61 [label=600]\n",
      "\t\t1 -> 10 [label=123]\n",
      "\t\t32 -> 88 [label=863]\n",
      "\t\t24 -> 37 [label=196]\n",
      "\t\t8 -> 47 [label=127]\n",
      "\t\t1 -> 65 [label=85]\n",
      "\t\t9 -> 32 [label=203]\n",
      "\t\t1 -> 8 [label=251]\n",
      "\t\t67 -> 92 [label=102]\n",
      "\t\t9 -> 78 [label=351]\n",
      "\t\t8 -> 15 [label=255]\n",
      "\t\t38 -> 89 [label=382]\n",
      "\t\t5 -> 67 [label=115]\n",
      "\t\t15 -> 28 [label=282]\n",
      "\t\t10 -> 38 [label=380]\n",
      "\t\t24 -> 19 [label=87]\n",
      "\t\t24 -> 116 [label=552]\n",
      "\t\t9 -> 22 [label=70]\n",
      "\t\t47 -> 97 [label=206]\n",
      "\t\t22 -> 24 [label=215]\n",
      "\t\t65 -> 117 [label=282]\n",
      "\t\t110 -> 114 [label=111]\n",
      "}\n"
     ]
    }
   ],
   "source": [
    "from graphviz import Digraph\n",
    "\n",
    "g = Digraph ()\n",
    "\n",
    "kid = k\n",
    "\n",
    "#style of nodes (sk, Dk)\n",
    "for d in problem.groups[kid-1].members:\n",
    "    g.node (str (d), style='filled', fillcolor='green')\n",
    "\n",
    "sk = problem.groups[kid-1].source\n",
    "g.node (str(sk), style='filled', fillcolor='blue')\n",
    "\n",
    "for i in var_y_:\n",
    "    name=var_y_[i].getAttr ('varname')\n",
    "    v = m2.getVarByName (str(i))    \n",
    "    l = i if i in net.links else (i[1],i[0]) #creating the right link to access properties\n",
    "    if v.getAttr('X') == 1:\n",
    "        g.edge ( str(i[0]) ,str(i[1]), str(net.properties(l)[0]) )\n",
    "        \n",
    "\n",
    "print g.source"
   ]
  },
  {
   "cell_type": "markdown",
   "metadata": {},
   "source": [
    "## Funções Utilitárias"
   ]
  },
  {
   "cell_type": "code",
   "execution_count": 37,
   "metadata": {
    "collapsed": true
   },
   "outputs": [],
   "source": [
    "def custo_arvore (model, var, network):\n",
    "    cost = 0.0\n",
    "    for i in var:\n",
    "        name=var[i].getAttr ('varname')\n",
    "        v = model.getVarByName (str(i))    \n",
    "        l = i if i in network.links else (i[1],i[0]) #creating the right link to access properties\n",
    "        if v.getAttr('X') == 1:            \n",
    "            cost = cost + net.properties(l)[0]\n",
    "    return cost\n",
    "\n",
    "\n",
    "def get_num_links (model, var):\n",
    "    numlinks = 0.0\n",
    "    for i in var:\n",
    "        name=var[i].getAttr ('varname')\n",
    "        v = model.getVarByName (str(i))        \n",
    "        if v.getAttr('X') == 1:            \n",
    "            numlinks = numlinks + 1\n",
    "    return numlinks\n",
    "        "
   ]
  },
  {
   "cell_type": "markdown",
   "metadata": {
    "collapsed": false
   },
   "source": [
    "## Obter todas as soluções - Número de Links"
   ]
  },
  {
   "cell_type": "code",
   "execution_count": 39,
   "metadata": {
    "collapsed": false
   },
   "outputs": [],
   "source": [
    "from gurobipy import *\n",
    "\n",
    "sol1 = {}\n",
    "sol1_links = {}\n",
    "\n",
    "for k in xrange (1,KSIZE): \n",
    "    M = Model ('Steiner Tree') \n",
    "    varY = {} \n",
    "    varX = {} \n",
    "    create_variable (M, k, varX, varY)\n",
    "    flow1 (M, k, varX, varY)\n",
    "    flow2 (M, k, varX, varY)\n",
    "    flow3 (M, k, varX, varY)\n",
    "    set_edge (M, k,varX, varY)\n",
    "    objective_links (M, varY)\n",
    "    \n",
    "    M.setParam (GRB.Param.OutputFlag, 0)\n",
    "    M.optimize ()\n",
    "    \n",
    "    sol1[k] = custo_arvore (M, varY, net)\n",
    "    sol1_links[k] = M.ObjVal"
   ]
  },
  {
   "cell_type": "markdown",
   "metadata": {},
   "source": [
    "## Obter todas as soluções - Custo"
   ]
  },
  {
   "cell_type": "code",
   "execution_count": 40,
   "metadata": {
    "collapsed": false
   },
   "outputs": [],
   "source": [
    "from gurobipy import *\n",
    "\n",
    "sol2 = {}\n",
    "sol2_links = {}\n",
    "\n",
    "for k in xrange (1,KSIZE): \n",
    "    M = Model ('Steiner Tree') \n",
    "    varY = {} \n",
    "    varX = {} \n",
    "    create_variable (M, k, varX, varY)\n",
    "    flow1 (M, k, varX, varY)\n",
    "    flow2 (M, k, varX, varY)\n",
    "    flow3 (M, k, varX, varY)\n",
    "    set_edge (M, k,varX, varY)\n",
    "    objective_custo (M, varY, net)\n",
    "    \n",
    "    M.setParam (GRB.Param.OutputFlag, 0)\n",
    "    M.optimize ()\n",
    "    \n",
    "    sol2[k] = M.ObjVal\n",
    "    sol2_links[k] = get_num_links (M, varY)   "
   ]
  },
  {
   "cell_type": "markdown",
   "metadata": {},
   "source": [
    "## Observações\n",
    "\n",
    "No exemplos há duas situações distintas: no primeiro caso as árvores construídas consideram o número de mínimo de arestas que contectam os participantes do grupo multicast. Por outro lado, no segundo caso se tem árvore com custo menor. Possívelmente, o segundo caso, é possível que o número de arestas seja maior.\n",
    "\n",
    "Aqui é um bom indício de aplicação do modelo que otimiza custo e Z com limite de hop.\n"
   ]
  },
  {
   "cell_type": "code",
   "execution_count": 36,
   "metadata": {
    "collapsed": false
   },
   "outputs": [
    {
     "name": "stdout",
     "output_type": "stream",
     "text": [
      "Custo das árvores por nº de links 47680.0 e por otimização de custo 36838.0 \n",
      "Links - Cost: 10842.0\n"
     ]
    }
   ],
   "source": [
    "links = 8280.0 + 9269.0 + 10416.0 + 8826.0 + 10889.0\n",
    "cost = 7026.0 + 6805.0 + 7498.0 + 7364.0 + 8145.0\n",
    "\n",
    "print 'Custo das árvores por nº de links %s e por otimização de custo %s ' % (links, cost)\n",
    "print 'Links - Cost: %s' % (links-cost)"
   ]
  },
  {
   "cell_type": "code",
   "execution_count": 45,
   "metadata": {
    "collapsed": false
   },
   "outputs": [
    {
     "name": "stdout",
     "output_type": "stream",
     "text": [
      "Solução 1 considerando número de Links (Custo): {1: 8280.0, 2: 9269.0, 3: 10416.0, 4: 8826.0, 5: 10889.0} \n",
      "Número de Links da Solução 1: {1: 22.0, 2: 25.0, 3: 27.0, 4: 26.0, 5: 29.0}\n",
      "Solução 2 considerando número de Links (Custo): {1: 7026.0, 2: 6805.0, 3: 7498.0, 4: 7364.0, 5: 8145.0} \n",
      "Número de Links da Solução 2: {1: 27.0, 2: 30.0, 3: 33.0, 4: 29.0, 5: 36.0}\n"
     ]
    }
   ],
   "source": [
    "print 'Solução 1 considerando número de Links (Custo): %s ' % sol1\n",
    "print 'Número de Links da Solução 1: %s' % sol1_links\n",
    "print 'Solução 2 considerando número de Links (Custo): %s ' % sol2\n",
    "print 'Número de Links da Solução 2: %s' % sol2_links"
   ]
  },
  {
   "cell_type": "code",
   "execution_count": 105,
   "metadata": {
    "collapsed": false
   },
   "outputs": [
    {
     "name": "stdout",
     "output_type": "stream",
     "text": [
      "Economia do modelo de custo: 22.7390939597\n",
      "Diferença percentual entre de tamanho das árvores: [22.73, 20.0, 22.22, 11.54, 24.14]\n"
     ]
    }
   ],
   "source": [
    "Sol1_Custo = sum (sol1.values())\n",
    "Sol2_Custo = sum (sol2.values())\n",
    "diff = (Sol2_Custo*100.0)/Sol1_Custo\n",
    "\n",
    "print 'Economia do modelo de custo: %s' %(100.0 - diff)\n",
    "\n",
    "\n",
    "l = [x * 100 for x in sol2_links.values ()]\n",
    "diff = [l[i-1]/sol1_links[i] for i in xrange(1,len(l)+1)  ]\n",
    "diff = [x - 100.0 for x in diff]\n",
    "diff = map (lambda x: float('%0.2f' % x), diff)\n",
    "\n",
    "print 'Diferença percentual entre de tamanho das árvores: %s' % diff\n"
   ]
  }
 ],
 "metadata": {
  "kernelspec": {
   "display_name": "Python 2",
   "language": "python",
   "name": "python2"
  },
  "language_info": {
   "codemirror_mode": {
    "name": "ipython",
    "version": 2
   },
   "file_extension": ".py",
   "mimetype": "text/x-python",
   "name": "python",
   "nbconvert_exporter": "python",
   "pygments_lexer": "ipython2",
   "version": "2.7.6"
  }
 },
 "nbformat": 4,
 "nbformat_minor": 0
}
