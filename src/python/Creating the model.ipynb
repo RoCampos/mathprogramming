{
 "cells": [
  {
   "cell_type": "markdown",
   "metadata": {},
   "source": [
    "# Modelo\n",
    "\n",
    "Este modelo consiste em otimizar o valor de custo de uma solução sujeito a Capacidade Residual. \n",
    "Aqui o valor de custo consiste no somatório do custo de todas as árvores.\n",
    "\n",
    "O modelo matemático é definido como:\n",
    "\n",
    "$$ Minimizar \\sum_{ (i,j) \\in E}^{k} y_{ij}^{k}* custo_{ij} \\quad \\forall k \\in K$$\n",
    "\n",
    "$$\\mbox{Subject to:}$$\n",
    "\n",
    "$$\\sum_{i \\in V}{x_{ir_k}^{kd}} - \\sum_{i \\in V}{x_{r_{k}i}^{kd}} = -1\\quad {\\forall k \\in K \\atop \\forall d \\in D^k}$$\n",
    "\n",
    "$$\\sum_{(i,d) \\in E}{x_{id}^{kd}} - \\sum_{(d,i) \\in E}{x_{di}^{kd}} = 1 \\quad {\\forall k \\in K \\atop \\forall d \\in D^k}$$\n",
    "\n",
    "$$\\sum_{(i,j) \\in E \\atop j \\neq r_k,d}{x_{ij}^{kd}} - \\sum_{(i,j) \\in E \\atop j \\neq r_k,d}{x_{ji}^{kd}} = 0 \\quad {\\forall k \\in K \\atop \\forall d \\in D^k}$$\n",
    "\n",
    "$$x_{ij}^{kd} \\leq y_{ij}^{k} \\quad \\forall k \\in K, d \\in D^k  \\text{ e }  \\forall (i,j) \\in E$$\n",
    "\n",
    "$$\\sum_{d \\in D^k}{x_{ij}^{kd}} - y_{ij}^{k} \\geq 0 \\quad \\forall k \\in K$$\n",
    "\n",
    "$$b_{ij}  \\geq \\sum_{k \\in K} y_{ij}^{k} t^k \\quad \\forall (i,j) \\in E$$\n",
    "\n",
    "$$b_{ij}  - \\sum_{k \\in K} y_{ij}^{k} t^k >= Z \\quad \\forall (i,j) \\in E$$\n",
    "\n",
    "$$x_{ij}^{kd} \\in \\lbrace 0, 1 \\rbrace , y_{ij}^{k} \\in \\lbrace 0, 1 \\rbrace  {{\\forall k \\in K,  \\forall d \\in D^k} \\atop \\forall (i,j) \\in E}$$\n",
    "\n",
    "\n",
    "Observe-se que a restrição $b_{ij}  - \\sum_{k \\in K} y_{ij}^{k} t^k >= Z \\quad \\forall (i,j) \\in E$ garante que a solução terá uma reserva de banda pelo menos igual a Z. Este fator é importante para otimização, pois sua variação pode levar mudanças no custo.\n"
   ]
  },
  {
   "cell_type": "code",
   "execution_count": 60,
   "metadata": {
    "collapsed": true
   },
   "outputs": [],
   "source": [
    "from classes import Network, MulticastGroup\n",
    "from multicastpacking import MulticastPacking, solver\n",
    "import reader\n",
    "\n",
    "#instancen of the problem\n",
    "file = \"../../../MPP_instances/n30/b30_1.brite\""
   ]
  },
  {
   "cell_type": "code",
   "execution_count": 61,
   "metadata": {
    "collapsed": true
   },
   "outputs": [],
   "source": [
    "links = reader.get_network (file)\n",
    "net = Network (links, nodes = 30)\n",
    "\n",
    "\n",
    "mgroups = [MulticastGroup (g) for g in reader.get_groups (file) ]\n",
    "\n",
    "problem = MulticastPacking (net, mgroups)"
   ]
  },
  {
   "cell_type": "code",
   "execution_count": 62,
   "metadata": {
    "collapsed": true
   },
   "outputs": [],
   "source": [
    "KSIZE = len(problem.groups)+1\n",
    "NODES = net.nodes+1"
   ]
  },
  {
   "cell_type": "markdown",
   "metadata": {},
   "source": [
    "## Criando a variável:  \n",
    "$$x_{ij}^{kd}$$"
   ]
  },
  {
   "cell_type": "code",
   "execution_count": 63,
   "metadata": {
    "collapsed": false
   },
   "outputs": [],
   "source": [
    "from gurobipy import *\n",
    "\n",
    "m = Model (\"MPP by Cost\")\n",
    "\n",
    "var_x = {}\n",
    "var_y = {}\n",
    "\n",
    "for link in net.links:\n",
    "    for k in xrange (1, KSIZE):\n",
    "        for d in problem.groups[k-1].members:\n",
    "            x=link[0],link[1],k,d,\n",
    "            y=link[1],link[0],k,d,\n",
    "            var_x[x] = m.addVar(vtype=GRB.BINARY, obj=1, name=str(x))\n",
    "            var_x[y] = m.addVar(vtype=GRB.BINARY, obj=1, name=str(y))\n",
    "            \n",
    "m.update ()\n",
    "\n"
   ]
  },
  {
   "cell_type": "markdown",
   "metadata": {},
   "source": [
    "## Criando variável \n",
    "$$y_{ij}^{k}$$"
   ]
  },
  {
   "cell_type": "code",
   "execution_count": 64,
   "metadata": {
    "collapsed": false
   },
   "outputs": [],
   "source": [
    "for k in xrange (1, KSIZE):\n",
    "    for link in net.links:\n",
    "        x=link[0],link[1],k\n",
    "        y=link[1],link[0],k\n",
    "        var_y[x] = m.addVar(vtype=GRB.BINARY, obj=1, name=str(x))\n",
    "        var_y[y] = m.addVar(vtype=GRB.BINARY, obj=1, name=str(y))\n",
    "\n",
    "m.update ()"
   ]
  },
  {
   "cell_type": "markdown",
   "metadata": {},
   "source": [
    "## Fluxo 1:  \n",
    "\n",
    "$$\\sum_{i \\in V} x_{ij}^{kd} - \\sum_{i \\in V} x_{ji}^{kd} = -1 \\quad \\forall k \\in K,\\forall d \\in D^k$$"
   ]
  },
  {
   "cell_type": "code",
   "execution_count": 65,
   "metadata": {
    "collapsed": false
   },
   "outputs": [],
   "source": [
    "for k in xrange (1, KSIZE):\n",
    "    for d in problem.groups[k-1].members:\n",
    "        sk = problem.groups[k-1].source\n",
    "        _name='flow1',k,d\n",
    "        m.addConstr (\n",
    "            quicksum ( var_x[x] for x in tuplelist (var_x).select ('*',sk,k,d) )\n",
    "            -\n",
    "            quicksum ( var_x[x] for x in tuplelist (var_x).select (sk,'*',k,d) )\n",
    "            == -1,\n",
    "            name=str(_name)\n",
    "        )\n",
    "\n",
    "m.update ()"
   ]
  },
  {
   "cell_type": "markdown",
   "metadata": {},
   "source": [
    "## Fluxo 2:  \n",
    "\n",
    "$$\\sum_{(i,j) \\in E,  j \\notin [r_k, d]} x_{ji}^{kd} - \\sum_{(i,j) \\in E, j \\notin [r_k, d]} x_{ji}^{kd} = 0 \\quad \\forall k \\in K,\\forall d \\in D^k$$"
   ]
  },
  {
   "cell_type": "code",
   "execution_count": 66,
   "metadata": {
    "collapsed": false
   },
   "outputs": [],
   "source": [
    "for k in xrange (1, KSIZE):\n",
    "    for d in problem.groups[k-1].members:\n",
    "        for j in xrange(1,NODES):\n",
    "            sk = problem.groups[k-1].source\n",
    "            _name='flow2',k,d,j,       \n",
    "            m.addConstr (\n",
    "                quicksum(\n",
    "                   var_x[x] for x in tuplelist (var_x).select ('*',j,k,d) \n",
    "                    if x[1] not in [sk, d]\n",
    "                )\n",
    "                -\n",
    "                quicksum(\n",
    "                    var_x[x] for x in tuplelist (var_x).select (j,'*',k,d) \n",
    "                    if x[0] not in [sk, d]\n",
    "                )\n",
    "                == 0,\n",
    "                name=str(_name)\n",
    "            )            \n",
    "\n",
    "m.update ()"
   ]
  },
  {
   "cell_type": "markdown",
   "metadata": {},
   "source": [
    "## Fluxo 3: \n",
    "\n",
    "$$\\sum_{(d,i) \\in E} x_{di}^{kd} - \\sum_{(i,d) \\in E} x_{id}^{kd} = 1 \\quad \\forall k \\in K,\\forall d \\in D^k$$"
   ]
  },
  {
   "cell_type": "code",
   "execution_count": 67,
   "metadata": {
    "collapsed": false
   },
   "outputs": [],
   "source": [
    "for k in xrange (1, KSIZE):\n",
    "    for d in problem.groups[k-1].members:\n",
    "        sk = problem.groups[k-1].source\n",
    "        _name='flow3',k,d\n",
    "        m.addConstr (\n",
    "            quicksum (\n",
    "                var_x[x] for x in tuplelist (var_x).select ('*',d,k,d)\n",
    "            )\n",
    "            -\n",
    "            quicksum (\n",
    "                var_x[x] for x in tuplelist (var_x).select (d,'*',k,d)\n",
    "            )\n",
    "            == 1,\n",
    "            name=str(_name)\n",
    "        )\n",
    "        \n",
    "m.update ()"
   ]
  },
  {
   "cell_type": "markdown",
   "metadata": {},
   "source": [
    "## Restrição que Força $y_{ij}^{k}$ ser igual 1 se a aresta $(i,j)$ é usada por alguma árvore:\n",
    "\n",
    "$$x_{ij}^{kd} \\leq y_{ij}^{k} \\quad \\forall k \\in K, d \\in D^k  \\text{ e }  \\forall (i,j) \\in E$$"
   ]
  },
  {
   "cell_type": "code",
   "execution_count": 68,
   "metadata": {
    "collapsed": false
   },
   "outputs": [],
   "source": [
    "for k in xrange (1, KSIZE):\n",
    "    for d in problem.groups[k-1].members:\n",
    "        for link in net.links:\n",
    "            x=link[0],link[1],k,d,\n",
    "            y=link[0],link[1],k\n",
    "            _name='mark',link[0],link[1],k,d\n",
    "            m.addConstr ( var_x[x] <= var_y[y], \n",
    "                name=str(_name)\n",
    "            )            \n",
    "            x=link[1],link[0],k,d,\n",
    "            y=link[1],link[0],k\n",
    "            _name='mark',link[1],link[0],k,d\n",
    "            m.addConstr ( var_x[x] <= var_y[y], \n",
    "                name=str(_name)\n",
    "            )\n",
    "m.update ()"
   ]
  },
  {
   "cell_type": "markdown",
   "metadata": {},
   "source": [
    "## Restrição que evita nós folhas não terminais:\n",
    "$$\\sum_{d \\in D^k}{x_{ij}^{kd}} - y_{ij}^{k} \\geq 0 \\quad \\forall k \\in K$$"
   ]
  },
  {
   "cell_type": "code",
   "execution_count": 69,
   "metadata": {
    "collapsed": true
   },
   "outputs": [],
   "source": [
    "for k in xrange(1,KSIZE):\n",
    "    for link in net.links:\n",
    "        _name='out',link[0],link[1],k\n",
    "        m.addConstr(\n",
    "            quicksum(\n",
    "                  var_x[x] for x in tuplelist (var_x).select (link[0],link[1],k,'*')              \n",
    "            )\n",
    "            -\n",
    "            var_y[link[0],link[1],k]\n",
    "            >=\n",
    "            0,\n",
    "            name=str(_name)\n",
    "        )\n",
    "        _name='out',link[1],link[0],k,\n",
    "        \n",
    "        m.addConstr(\n",
    "            quicksum(\n",
    "                  var_x[x] for x in tuplelist (var_x).select (link[1],link[0],k,'*')              \n",
    "            )\n",
    "            -\n",
    "            var_y[link[1],link[0],k]\n",
    "            >=\n",
    "            0,\n",
    "            name=str(_name)\n",
    "        )\n",
    "m.update()"
   ]
  },
  {
   "cell_type": "markdown",
   "metadata": {},
   "source": [
    "## Conjunto de Restrições que foça uma capacidade residual mínima:\n",
    "\n",
    "$$b_{ij}  - \\sum_{k \\in K} y_{ij}^{k} t^k >= Z \\quad \\forall (i,j) \\in E$$"
   ]
  },
  {
   "cell_type": "code",
   "execution_count": 70,
   "metadata": {
    "collapsed": true
   },
   "outputs": [],
   "source": [
    "Z = 32\n",
    "\n",
    "constr = []\n",
    "\n",
    "for link in net.links:    \n",
    "    _name='capacity',link\n",
    "    constr.append(\n",
    "        m.addConstr (\n",
    "            links[link][1]\n",
    "            -\n",
    "            quicksum (\n",
    "                (var_y[ (x[0],x[1],x[2]) ] + var_y[ (x[1],x[0],x[2]) ] )*problem.groups[x[2]-1].traffic\n",
    "                    for x in tuplelist (var_y).select (link[1],link[0],'*')\n",
    "            )\n",
    "            >= Z,\n",
    "            name=str(_name)\n",
    "        )\n",
    "    )\n",
    "m.update ()"
   ]
  },
  {
   "cell_type": "markdown",
   "metadata": {},
   "source": [
    "## Objective Function:\n",
    "\n",
    "$$ Minimizar \\sum_{ (i,j) \\in E}^{k} y_{ij}^{k}* custo_{ij} \\quad \\forall k \\in K$$"
   ]
  },
  {
   "cell_type": "code",
   "execution_count": 71,
   "metadata": {
    "collapsed": false
   },
   "outputs": [],
   "source": [
    "expr  = []\n",
    "for k in xrange (1, KSIZE ):\n",
    "    expr.append ( quicksum (var_y[ (l[0],l[1],k) ] * net.links[l][0] \n",
    "        for l in net.links.keys()) )    \n",
    "    expr.append ( quicksum (var_y[ (l[1],l[0],k) ] * net.links[l][0] \n",
    "        for l in net.links.keys()) )\n",
    "\n",
    "\n",
    "m.setObjective (quicksum (expr), GRB.MINIMIZE)\n",
    "m.update ()\n"
   ]
  },
  {
   "cell_type": "code",
   "execution_count": 72,
   "metadata": {
    "collapsed": false
   },
   "outputs": [],
   "source": [
    "#\tr7{i in VERTEX, k in GROUPS}: \n",
    "#      sum { (j,m) in LINKS: m=i and m <> Mroot[k]} y[j,m,k] <=1;\n",
    "\n",
    "# parace que a restricao utilizada nao muda no modelo implementado \n",
    "# em python. A questão é por que não muda?\n",
    "\n",
    "\n",
    "for k in range (1,KSIZE):\n",
    "    for link in net.links:       \n",
    "        sk = problem.groups[k-1].source\n",
    "        if link[1] != sk:\n",
    "            _name='r7',link[0],link[1],k\n",
    "            m.addConstr (\n",
    "                quicksum (\n",
    "                    var_y[y] for y in tuplelist (var_y).select ('*',link[1],k)\n",
    "                )\n",
    "                <= 1,\n",
    "                name=str(_name)\n",
    "            )\n",
    "            \n",
    "        if link[0] != sk:\n",
    "            _name='r7',link[1],link[0],k\n",
    "            m.addConstr (\n",
    "                quicksum (\n",
    "                    var_y[y] for y in tuplelist (var_y).select ('*',link[0],k)\n",
    "                )\n",
    "                <= 1,\n",
    "                name=str(_name)\n",
    "            )\n",
    "\n",
    "m.update()"
   ]
  },
  {
   "cell_type": "code",
   "execution_count": 75,
   "metadata": {
    "collapsed": false
   },
   "outputs": [
    {
     "name": "stdout",
     "output_type": "stream",
     "text": [
      "[(32, 17985.0), (31, 17679.0), (30, 16901.0), (29, 16660.0), (28, 16057.0), (27, 16011.0), (26, 14951.0), (25, 14951.0), (24, 14951.0), (23, 14843.0), (22, 14843.0), (21, 14843.0), (20, 14843.0), (19, 14843.0), (18, 14843.0), (17, 14787.0), (16, 14521.0), (15, 14101.0), (14, 14101.0), (13, 13875.0), (12, 13856.0), (11, 13856.0), (10, 13856.0), (9, 13856.0), (8, 13856.0), (7, 13856.0), (6, 13856.0), (5, 13856.0), (4, 13856.0), (3, 13856.0), (2, 13641.0), (1, 13641.0), (0, 13641.0)]\n"
     ]
    }
   ],
   "source": [
    "print result"
   ]
  },
  {
   "cell_type": "markdown",
   "metadata": {},
   "source": [
    "## Plotar as árvores "
   ]
  },
  {
   "cell_type": "code",
   "execution_count": 32,
   "metadata": {
    "collapsed": false
   },
   "outputs": [
    {
     "data": {
      "text/plain": [
       "'teste.png.pdf'"
      ]
     },
     "execution_count": 32,
     "metadata": {},
     "output_type": "execute_result"
    }
   ],
   "source": [
    "from graphviz import *\n",
    "\n",
    "dot = Graph ()\n",
    "\n",
    "kid = 1\n",
    "\n",
    "vars = tuplelist(var_y).select ('*','*',kid)\n",
    "\n",
    "for d in problem.groups[kid-1].members:\n",
    "    dot.node (str (d-1), style='filled')\n",
    "\n",
    "for y in vars:\n",
    "    if var_y[(y)].getAttr ('X') == 1:\n",
    "        dot.edge (str (y[0]-1), str(y[1]-1))        \n",
    "\n",
    "\n",
    "dot.render ('teste.png', view=True)"
   ]
  },
  {
   "cell_type": "markdown",
   "metadata": {
    "collapsed": true
   },
   "source": [
    "## Obtendo Pareto"
   ]
  },
  {
   "cell_type": "code",
   "execution_count": 73,
   "metadata": {
    "collapsed": false
   },
   "outputs": [],
   "source": [
    "m.setParam('OutputFlag',0)\n",
    "m.optimize ()\n",
    "\n",
    "result = []\n",
    "time = []\n",
    "\n",
    "result.append ( (32, m.objVal) )\n",
    "time.append (m.getAttr ('Runtime'))\n",
    "\n",
    "for i in xrange(31,-1,-1):\n",
    "    for c in constr:\n",
    "        c.setAttr ('rhs',c.getAttr ('rhs') - 1)\n",
    "    m.update ()\n",
    "    m.optimize ()    \n",
    "    result.append ( (i, m.objVal) )\n",
    "    time.append ( m.getAttr('Runtime') )\n",
    "\n"
   ]
  },
  {
   "cell_type": "markdown",
   "metadata": {},
   "source": [
    "## Resulatdo Final - Sem restrição de hop"
   ]
  },
  {
   "cell_type": "code",
   "execution_count": 74,
   "metadata": {
    "collapsed": false
   },
   "outputs": [
    {
     "name": "stdout",
     "output_type": "stream",
     "text": [
      "Processing time 0.147837877274\n"
     ]
    },
    {
     "data": {
      "image/png": "[encoded data removed]",
      "text/plain": [
       "<matplotlib.figure.Figure at 0x7f945140d850>"
      ]
     },
     "metadata": {},
     "output_type": "display_data"
    }
   ],
   "source": [
    "%matplotlib inline\n",
    "\n",
    "import matplotlib.pyplot as plt\n",
    "\n",
    "#removing duplicates\n",
    "seen = set ()\n",
    "nova = [item for item in result if item[1] not in seen and not seen.add(item[1])]\n",
    "\n",
    "res = [x[0] for x in nova]\n",
    "cos = [x[1] for x in nova]\n",
    "\n",
    "print \"Processing time %s\" % m.getAttr ('Runtime')\n",
    "\n",
    "plt.xlabel ('Capacidade Residual')\n",
    "plt.ylabel ('Custo')\n",
    "plt.plot (res, cos, 'bs-')\n",
    "plt.show ()\n"
   ]
  },
  {
   "cell_type": "markdown",
   "metadata": {
    "collapsed": true
   },
   "source": [
    "# Restrição de Qualidade de Serviço\n",
    "\n",
    "Este restrição visa restingir o tamanho dos caminhos entre nó fonte e destino. Visando evitar que longos caminhos sejam criados entre fonte/destino para cada grupo multicast, assim sendo pode-se buscar soluções com boa qualidade e, ao mesmo tempo, com QoS.\n",
    "\n",
    "A restrição considera tem como base o número de hops entre fonte/destino."
   ]
  },
  {
   "cell_type": "markdown",
   "metadata": {},
   "source": [
    "## Restrição de QoS baseada em número de hops em um caminho:\n",
    "\n",
    "$$ \\sum_{(i,j) \\in E} x_{ij}^{kd} <= HOP \\quad \\forall k \\in K, \\forall d \\in D^k$$"
   ]
  },
  {
   "cell_type": "code",
   "execution_count": 286,
   "metadata": {
    "collapsed": true
   },
   "outputs": [],
   "source": [
    "#valor de hop inicial\n",
    "m.reset ()\n",
    "HOP = 5\n",
    "\n",
    "hop_constr = []\n",
    "\n",
    "# para cada sessão\n",
    "for k in xrange(1, KSIZE):\n",
    "    #para cada destino considerar as \n",
    "    for d in problem.groups[k-1].members:\n",
    "        _name='hop',k,d\n",
    "        #as variáveis que compõe o caminho\n",
    "        hop_constr.append (\n",
    "            m.addConstr(\n",
    "                quicksum(\n",
    "                     var_x[x] for x in tuplelist (var_x).select ('*','*',k,d)\n",
    "                )\n",
    "                <=\n",
    "                HOP,\n",
    "                name=str(_name)\n",
    "            )\n",
    "        )\n",
    "m.update ()"
   ]
  },
  {
   "cell_type": "markdown",
   "metadata": {},
   "source": [
    "## Pegar Pareto com Restrição de Hop:\n",
    "$$b_{ij}  - \\sum_{k \\in K} y_{ij}^{k} t^k >= Z \\quad \\forall (i,j) \\in E$$"
   ]
  },
  {
   "cell_type": "code",
   "execution_count": 287,
   "metadata": {
    "collapsed": true
   },
   "outputs": [],
   "source": [
    "#Redefine valor para ZMAX\n",
    "for x in constr:\n",
    "     x.setAttr('rhs',x.getAttr ('rhs') + Z )\n",
    "        \n",
    "m.optimize ()\n",
    "\n",
    "result = []\n",
    "time = []\n",
    "\n",
    "result.append ( (32, m.objVal) )\n",
    "time.append (m.getAttr ('Runtime'))\n",
    "\n",
    "for i in xrange(31,-1,-1):\n",
    "    for c in constr:\n",
    "        c.setAttr ('rhs',c.getAttr ('rhs') - 1)\n",
    "    m.update ()\n",
    "    m.optimize ()    \n",
    "    result.append ( (i, m.objVal) )\n",
    "    time.append ( m.getAttr('Runtime') )"
   ]
  },
  {
   "cell_type": "markdown",
   "metadata": {},
   "source": [
    "## Resultado final - Com restrição de hop"
   ]
  },
  {
   "cell_type": "code",
   "execution_count": 289,
   "metadata": {
    "collapsed": false
   },
   "outputs": [
    {
     "name": "stdout",
     "output_type": "stream",
     "text": [
      "Processing time 0.3337059021\n"
     ]
    },
    {
     "data": {
      "image/png": "[encoded data removed]",
      "text/plain": [
       "<matplotlib.figure.Figure at 0x7fabf4794190>"
      ]
     },
     "metadata": {},
     "output_type": "display_data"
    }
   ],
   "source": [
    "%matplotlib inline\n",
    "\n",
    "import matplotlib.pyplot as plt\n",
    "\n",
    "#removing duplicates\n",
    "seen = set ()\n",
    "nova2 = [item for item in result if item[1] not in seen and not seen.add(item[1])]\n",
    "\n",
    "res = [x[0] for x in nova2]\n",
    "cos = [x[1] for x in nova2]\n",
    "\n",
    "print \"Processing time %s\" % m.getAttr ('Runtime')\n",
    "\n",
    "plt.xlabel ('Capacidade Residual')\n",
    "plt.ylabel ('Custo')\n",
    "plt.plot (res, cos, 'bs-')\n",
    "plt.show ()"
   ]
  },
  {
   "cell_type": "code",
   "execution_count": 306,
   "metadata": {
    "collapsed": false
   },
   "outputs": [
    {
     "data": {
      "image/png": "[encoded data removed]",
      "text/plain": [
       "<matplotlib.figure.Figure at 0x7fabd49bba10>"
      ]
     },
     "metadata": {},
     "output_type": "display_data"
    }
   ],
   "source": [
    "# -*- encoding: utf-8 -*-\n",
    "res1 = [x[0] for x in nova]\n",
    "cos1 = [x[1] for x in nova]\n",
    "label1 = 'Cost Constrained by Z'\n",
    "\n",
    "res2 = [x[0] for x in nova2]\n",
    "cos2 = [x[1] for x in nova2]\n",
    "label2 = 'Cost Constrained by Z/Hop'\n",
    "\n",
    "plt.xlabel ('Capacidade Residual')\n",
    "plt.ylabel ('Custo')\n",
    "plt.title ('Comparison de Pareto Caso de Teste B30_01')\n",
    "\n",
    "plt.plot (res1, cos1, 'rs-', label=label1)\n",
    "plt.plot (res2, cos2, 'bs-', label=label2)\n",
    "plt.legend (loc='upper left')\n",
    "plt.show ()"
   ]
  }
 ],
 "metadata": {
  "kernelspec": {
   "display_name": "Python 2",
   "language": "python",
   "name": "python2"
  },
  "language_info": {
   "codemirror_mode": {
    "name": "ipython",
    "version": 2
   },
   "file_extension": ".py",
   "mimetype": "text/x-python",
   "name": "python",
   "nbconvert_exporter": "python",
   "pygments_lexer": "ipython2",
   "version": "2.7.6"
  }
 },
 "nbformat": 4,
 "nbformat_minor": 0
}
