{
 "cells": [
  {
   "cell_type": "markdown",
   "metadata": {},
   "source": [
    "# Modelo"
   ]
  },
  {
   "cell_type": "code",
   "execution_count": 1,
   "metadata": {
    "collapsed": true
   },
   "outputs": [],
   "source": [
    "from classes import Network, MulticastGroup\n",
    "from multicastpacking import MulticastPacking, solver\n",
    "import reader\n",
    "\n",
    "#instancen of the problem\n",
    "file = \"../../../MPP_instances/n30/b30_1.brite\""
   ]
  },
  {
   "cell_type": "code",
   "execution_count": 2,
   "metadata": {
    "collapsed": true
   },
   "outputs": [],
   "source": [
    "links = reader.get_network (file)\n",
    "net = Network (links, nodes = 30)\n",
    "\n",
    "\n",
    "mgroups = [MulticastGroup (g) for g in reader.get_groups (file) ]\n",
    "\n",
    "problem = MulticastPacking (net, mgroups)"
   ]
  },
  {
   "cell_type": "code",
   "execution_count": 3,
   "metadata": {
    "collapsed": true
   },
   "outputs": [],
   "source": [
    "KSIZE = len(problem.groups)+1\n",
    "NODES = net.nodes+1"
   ]
  },
  {
   "cell_type": "markdown",
   "metadata": {},
   "source": [
    "## Criando a variável:  $x_{ij}^{kd}$"
   ]
  },
  {
   "cell_type": "code",
   "execution_count": 4,
   "metadata": {
    "collapsed": false
   },
   "outputs": [],
   "source": [
    "from gurobipy import *\n",
    "\n",
    "m = Model (\"MPP by Cost\")\n",
    "\n",
    "var_x = {}\n",
    "var_y = {}\n",
    "\n",
    "for link in net.links:\n",
    "    for k in xrange (1, KSIZE):\n",
    "        for d in problem.groups[k-1].members:\n",
    "            x=link[0],link[1],k,d,\n",
    "            y=link[1],link[0],k,d,\n",
    "            var_x[x] = m.addVar(vtype=GRB.BINARY, obj=1, name=str(x))\n",
    "            var_x[y] = m.addVar(vtype=GRB.BINARY, obj=1, name=str(y))\n",
    "            \n",
    "m.update ()\n",
    "\n"
   ]
  },
  {
   "cell_type": "markdown",
   "metadata": {},
   "source": [
    "## Criando variável $y_{ij}^{k}$"
   ]
  },
  {
   "cell_type": "code",
   "execution_count": 5,
   "metadata": {
    "collapsed": true
   },
   "outputs": [],
   "source": [
    "for k in xrange (1, KSIZE):\n",
    "    for link in net.links:\n",
    "        x=link[0],link[1],k\n",
    "        y=link[1],link[0],k\n",
    "        var_y[x] = m.addVar(vtype=GRB.BINARY, obj=1, name=str(x))\n",
    "        var_y[y] = m.addVar(vtype=GRB.BINARY, obj=1, name=str(y))\n",
    "\n",
    "m.update ()"
   ]
  },
  {
   "cell_type": "markdown",
   "metadata": {},
   "source": [
    "## Criando flow1 "
   ]
  },
  {
   "cell_type": "code",
   "execution_count": 6,
   "metadata": {
    "collapsed": false
   },
   "outputs": [],
   "source": [
    "for k in xrange (1, KSIZE):\n",
    "    for d in problem.groups[k-1].members:\n",
    "        sk = problem.groups[k-1].source\n",
    "        _name='flow1',k,d\n",
    "        m.addConstr (\n",
    "            quicksum ( var_x[x] for x in tuplelist (var_x).select ('*',sk,k,d) )\n",
    "            -\n",
    "            quicksum ( var_x[x] for x in tuplelist (var_x).select (sk,'*',k,d) )\n",
    "            == -1,\n",
    "            name=str(_name)\n",
    "        )\n",
    "\n",
    "m.update ()"
   ]
  },
  {
   "cell_type": "markdown",
   "metadata": {},
   "source": [
    "## Criando flow2"
   ]
  },
  {
   "cell_type": "code",
   "execution_count": 7,
   "metadata": {
    "collapsed": false
   },
   "outputs": [],
   "source": [
    "for k in xrange (1, KSIZE):\n",
    "    for d in problem.groups[k-1].members:\n",
    "        for j in xrange(1,NODES):\n",
    "            sk = problem.groups[k-1].source\n",
    "            _name='flow2',k,d,j,       \n",
    "            m.addConstr (\n",
    "                quicksum(\n",
    "                   var_x[x] for x in tuplelist (var_x).select ('*',j,k,d) \n",
    "                    if x[1] not in [sk, d]\n",
    "                )\n",
    "                -\n",
    "                quicksum(\n",
    "                    var_x[x] for x in tuplelist (var_x).select (j,'*',k,d) \n",
    "                    if x[0] not in [sk, d]\n",
    "                )\n",
    "                == 0,\n",
    "                name=str(_name)\n",
    "            )            \n",
    "\n",
    "m.update ()"
   ]
  },
  {
   "cell_type": "markdown",
   "metadata": {},
   "source": [
    "## Criando flow3"
   ]
  },
  {
   "cell_type": "code",
   "execution_count": 8,
   "metadata": {
    "collapsed": true
   },
   "outputs": [],
   "source": [
    "for k in xrange (1, KSIZE):\n",
    "    for d in problem.groups[k-1].members:\n",
    "        sk = problem.groups[k-1].source\n",
    "        _name='flow3',k,d\n",
    "        m.addConstr (\n",
    "            quicksum (\n",
    "                var_x[x] for x in tuplelist (var_x).select ('*',d,k,d)\n",
    "            )\n",
    "            -\n",
    "            quicksum (\n",
    "                var_x[x] for x in tuplelist (var_x).select (d,'*',k,d)\n",
    "            )\n",
    "            == 1,\n",
    "            name=str(_name)\n",
    "        )\n",
    "        \n",
    "m.update ()"
   ]
  },
  {
   "cell_type": "markdown",
   "metadata": {},
   "source": [
    "## Forçando $y_{ij}^{k}$ igual a 1 quando a aresta $(i,j)$ for usada"
   ]
  },
  {
   "cell_type": "code",
   "execution_count": 9,
   "metadata": {
    "collapsed": false
   },
   "outputs": [],
   "source": [
    "for k in xrange (1, KSIZE):\n",
    "    for d in problem.groups[k-1].members:\n",
    "        for link in net.links:\n",
    "            x=link[0],link[1],k,d,\n",
    "            y=link[0],link[1],k\n",
    "            _name='r4',link[0],link[1],k,d\n",
    "            m.addConstr ( var_x[x] <= var_y[y], \n",
    "                name=str(_name)\n",
    "            )            \n",
    "            x=link[1],link[0],k,d,\n",
    "            y=link[1],link[0],k\n",
    "            _name='r4',link[1],link[0],k,d\n",
    "            m.addConstr ( var_x[x] <= var_y[y], \n",
    "                name=str(_name)\n",
    "            )\n",
    "m.update ()"
   ]
  },
  {
   "cell_type": "markdown",
   "metadata": {},
   "source": [
    "## Objective Function"
   ]
  },
  {
   "cell_type": "code",
   "execution_count": 10,
   "metadata": {
    "collapsed": false
   },
   "outputs": [],
   "source": [
    "expr  = []\n",
    "for k in xrange (1, KSIZE ):\n",
    "    expr.append ( quicksum (var_y[ (l[0],l[1],k) ] * net.links[l][0] \n",
    "        for l in net.links.keys()) )    \n",
    "    expr.append ( quicksum (var_y[ (l[1],l[0],k) ] * net.links[l][0] \n",
    "        for l in net.links.keys()) )\n",
    "\n",
    "\n",
    "m.setObjective (quicksum (expr), GRB.MINIMIZE)\n",
    "m.update ()\n"
   ]
  },
  {
   "cell_type": "markdown",
   "metadata": {
    "collapsed": true
   },
   "source": [
    "## Forçando otimização sob restrição de capacidade"
   ]
  },
  {
   "cell_type": "code",
   "execution_count": null,
   "metadata": {
    "collapsed": false
   },
   "outputs": [],
   "source": []
  },
  {
   "cell_type": "code",
   "execution_count": 11,
   "metadata": {
    "collapsed": false
   },
   "outputs": [
    {
     "name": "stdout",
     "output_type": "stream",
     "text": [
      "<gurobi.Model MIP instance MPP by Cost: 4864 constrs, 4440 vars, Parameter changes: LogFile=gurobi.log>\n"
     ]
    }
   ],
   "source": [
    "print (m)"
   ]
  },
  {
   "cell_type": "code",
   "execution_count": 12,
   "metadata": {
    "collapsed": false
   },
   "outputs": [
    {
     "name": "stdout",
     "output_type": "stream",
     "text": [
      "Warning: variable name \"(5, 9, 1, 23)\" has a space\n",
      "Warning: constraint name \"('flow1', 1, 23)\" has a space\n",
      "Warning: to let Gurobi read it back, use rlp format\n"
     ]
    }
   ],
   "source": [
    "m.write ('teste.lp')"
   ]
  },
  {
   "cell_type": "code",
   "execution_count": 13,
   "metadata": {
    "collapsed": false
   },
   "outputs": [
    {
     "name": "stdout",
     "output_type": "stream",
     "text": [
      "Optimize a model with 4864 rows, 4440 columns and 15360 nonzeros\n",
      "Coefficient statistics:\n",
      "  Matrix range    [1e+00, 1e+00]\n",
      "  Objective range [5e+01, 9e+02]\n",
      "  Bounds range    [1e+00, 1e+00]\n",
      "  RHS range       [1e+00, 1e+00]\n",
      "Found heuristic solution: objective 77909\n",
      "Presolve removed 124 rows and 64 columns\n",
      "Presolve time: 0.04s\n",
      "Presolved: 4740 rows, 4376 columns, 15160 nonzeros\n",
      "Variable types: 0 continuous, 4376 integer (4376 binary)\n",
      "\n",
      "Root relaxation: objective 1.364100e+04, 1343 iterations, 0.02 seconds\n",
      "\n",
      "    Nodes    |    Current Node    |     Objective Bounds      |     Work\n",
      " Expl Unexpl |  Obj  Depth IntInf | Incumbent    BestBd   Gap | It/Node Time\n",
      "\n",
      "*    0     0               0    13641.000000 13641.0000  0.00%     -    0s\n",
      "\n",
      "Explored 0 nodes (1343 simplex iterations) in 0.08 seconds\n",
      "Thread count was 2 (of 4 available processors)\n",
      "\n",
      "Optimal solution found (tolerance 1.00e-04)\n",
      "Best objective 1.364100000000e+04, best bound 1.364100000000e+04, gap 0.0%\n"
     ]
    }
   ],
   "source": [
    "m.optimize ()"
   ]
  },
  {
   "cell_type": "code",
   "execution_count": null,
   "metadata": {
    "collapsed": true
   },
   "outputs": [],
   "source": []
  },
  {
   "cell_type": "code",
   "execution_count": null,
   "metadata": {
    "collapsed": true
   },
   "outputs": [],
   "source": []
  }
 ],
 "metadata": {
  "kernelspec": {
   "display_name": "Python 2",
   "language": "python",
   "name": "python2"
  },
  "language_info": {
   "codemirror_mode": {
    "name": "ipython",
    "version": 2
   },
   "file_extension": ".py",
   "mimetype": "text/x-python",
   "name": "python",
   "nbconvert_exporter": "python",
   "pygments_lexer": "ipython2",
   "version": "2.7.6"
  }
 },
 "nbformat": 4,
 "nbformat_minor": 0
}
