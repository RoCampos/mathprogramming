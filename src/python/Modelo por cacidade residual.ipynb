{
 "cells": [
  {
   "cell_type": "markdown",
   "metadata": {},
   "source": [
    "# Obtendo informações da rede e dos grupos"
   ]
  },
  {
   "cell_type": "code",
   "execution_count": 1,
   "metadata": {
    "collapsed": true
   },
   "outputs": [],
   "source": [
    "from classes import Network, MulticastGroup\n",
    "from multicastpacking import MulticastPacking, solver\n",
    "import reader\n",
    "\n",
    "#instancen of the problem\n",
    "file = \"../../../MPP_instances/n30/b30_1.brite\"\n",
    "\n",
    "links = reader.get_network (file)\n",
    "net = Network (links, nodes = 30)\n",
    "\n",
    "\n",
    "mgroups = [MulticastGroup (g) for g in reader.get_groups (file) ]\n",
    "\n",
    "problem = MulticastPacking (net, mgroups)\n",
    "\n",
    "KSIZE = len(problem.groups)+1\n",
    "NODES = net.nodes+1"
   ]
  },
  {
   "cell_type": "markdown",
   "metadata": {},
   "source": [
    "# Criando as restrições de Fluxo"
   ]
  },
  {
   "cell_type": "markdown",
   "metadata": {},
   "source": [
    "## Criando as variáveis do problema: $x_{ij}^{kd}, y_{ij}^{k}$"
   ]
  },
  {
   "cell_type": "code",
   "execution_count": 3,
   "metadata": {
    "collapsed": true
   },
   "outputs": [],
   "source": [
    "from gurobipy import *\n",
    "\n",
    "m = Model (\"MPP by Cost\")\n",
    "\n",
    "var_x = {}\n",
    "var_y = {}\n",
    "\n",
    "#variable x\n",
    "for link in net.links:\n",
    "    for k in xrange (1, KSIZE):\n",
    "        for d in problem.groups[k-1].members:\n",
    "            x=link[0],link[1],k,d,\n",
    "            y=link[1],link[0],k,d,\n",
    "            var_x[x] = m.addVar(vtype=GRB.BINARY, obj=1, name=str(x))\n",
    "            var_x[y] = m.addVar(vtype=GRB.BINARY, obj=1, name=str(y))\n",
    "            \n",
    "m.update ()\n",
    "\n",
    "#variable y\n",
    "for k in xrange (1, KSIZE):\n",
    "    for link in net.links:\n",
    "        x=link[0],link[1],k\n",
    "        y=link[1],link[0],k\n",
    "        var_y[x] = m.addVar(vtype=GRB.BINARY, obj=1, name=str(x))\n",
    "        var_y[y] = m.addVar(vtype=GRB.BINARY, obj=1, name=str(y))\n",
    "\n",
    "m.update ()"
   ]
  },
  {
   "cell_type": "markdown",
   "metadata": {},
   "source": [
    "## Fluxo 1:  \n",
    "\n",
    "$\\sum_{i \\in V} x_{ij}^{kd} - \\sum_{i \\in V} x_{ji}^{kd} = -1 \\quad \\forall k \\in K,\\forall d \\in D^k$ "
   ]
  },
  {
   "cell_type": "code",
   "execution_count": 4,
   "metadata": {
    "collapsed": false
   },
   "outputs": [],
   "source": [
    "for k in xrange (1, KSIZE):\n",
    "    for d in problem.groups[k-1].members:\n",
    "        sk = problem.groups[k-1].source\n",
    "        _name='flow1',k,d\n",
    "        m.addConstr (\n",
    "            quicksum ( var_x[x] for x in tuplelist (var_x).select ('*',sk,k,d) )\n",
    "            -\n",
    "            quicksum ( var_x[x] for x in tuplelist (var_x).select (sk,'*',k,d) )\n",
    "            == -1,\n",
    "            name=str(_name)\n",
    "        )\n",
    "\n",
    "m.update ()"
   ]
  },
  {
   "cell_type": "markdown",
   "metadata": {},
   "source": [
    "## Fluxo 2:  \n",
    "\n",
    "$\\sum_{(i,j) \\in E} x_{ji}^{kd} - \\sum_{(i,j) \\in E} x_{ij}^{kd} = 0 \\quad \\forall k \\in K,\\forall d \\in D^k$ "
   ]
  },
  {
   "cell_type": "code",
   "execution_count": 5,
   "metadata": {
    "collapsed": true
   },
   "outputs": [],
   "source": [
    "for k in xrange (1, KSIZE):\n",
    "    for d in problem.groups[k-1].members:\n",
    "        for j in xrange(1,NODES):\n",
    "            sk = problem.groups[k-1].source\n",
    "            _name='flow2',k,d,j,       \n",
    "            m.addConstr (\n",
    "                quicksum(\n",
    "                   var_x[x] for x in tuplelist (var_x).select ('*',j,k,d) \n",
    "                    if x[1] not in [sk, d]\n",
    "                )\n",
    "                -\n",
    "                quicksum(\n",
    "                    var_x[x] for x in tuplelist (var_x).select (j,'*',k,d) \n",
    "                    if x[0] not in [sk, d]\n",
    "                )\n",
    "                == 0,\n",
    "                name=str(_name)\n",
    "            )            \n",
    "\n",
    "m.update ()"
   ]
  },
  {
   "cell_type": "markdown",
   "metadata": {},
   "source": [
    "## Fluxo 3: \n",
    "\n",
    "$\\sum_{(i,j) \\in E,  j \\notin [r_k, d]} x_{ji}^{kd} - \\sum_{(i,j) \\in E, j \\notin [r_k, d]} x_{ji}^{kd} = 0 \\quad \\forall k \\in K,\\forall d \\in D^k$ "
   ]
  },
  {
   "cell_type": "markdown",
   "metadata": {},
   "source": [
    "## Restrição que Força $y_{ij}^{k}$ ser igual 1 se a aresta $(i,j)$ é usada por alguma árvore"
   ]
  },
  {
   "cell_type": "code",
   "execution_count": 6,
   "metadata": {
    "collapsed": true
   },
   "outputs": [],
   "source": [
    "for k in xrange (1, KSIZE):\n",
    "    for d in problem.groups[k-1].members:\n",
    "        for link in net.links:\n",
    "            x=link[0],link[1],k,d,\n",
    "            y=link[0],link[1],k\n",
    "            _name='r4',link[0],link[1],k,d\n",
    "            m.addConstr ( var_x[x] <= var_y[y], \n",
    "                name=str(_name)\n",
    "            )            \n",
    "            x=link[1],link[0],k,d,\n",
    "            y=link[1],link[0],k\n",
    "            _name='r4',link[1],link[0],k,d\n",
    "            m.addConstr ( var_x[x] <= var_y[y], \n",
    "                name=str(_name)\n",
    "            )\n",
    "m.update ()"
   ]
  },
  {
   "cell_type": "code",
   "execution_count": 7,
   "metadata": {
    "collapsed": false
   },
   "outputs": [
    {
     "name": "stdout",
     "output_type": "stream",
     "text": [
      "<bound method Model.update of <gurobi.Model MIP instance MPP by Cost: 4832 constrs, 4440 vars, Parameter changes: LogFile=gurobi.log>>\n"
     ]
    }
   ],
   "source": [
    "print (m.update)"
   ]
  },
  {
   "cell_type": "markdown",
   "metadata": {},
   "source": [
    "# Criando Variável para Capacidade Residual"
   ]
  },
  {
   "cell_type": "code",
   "execution_count": 8,
   "metadata": {
    "collapsed": false
   },
   "outputs": [],
   "source": [
    "Z = m.addVar(vtype=GRB.INTEGER, name=\"Z\", obj=1)\n",
    "m.update ()"
   ]
  },
  {
   "cell_type": "markdown",
   "metadata": {},
   "source": [
    "## Forçando todos os links terem pelo menos a mesma capacidade Z \n",
    "\n",
    "$b_{ij} - \\sum_{k \\in K} y_{ij}^{k}t^{k} $"
   ]
  },
  {
   "cell_type": "code",
   "execution_count": 9,
   "metadata": {
    "collapsed": false
   },
   "outputs": [],
   "source": [
    "for k in xrange(1,KSIZE):\n",
    "    for link in net.links:\n",
    "        _name='cap',k,link[0],link[1]\n",
    "        m.addConstr (\n",
    "            net.links[link][1] - quicksum ( var_y[i] * problem.groups[ i[2]-1 ].traffic\n",
    "                                           for i in tuplelist (var_y).select (link[0],link[1],'*') ) \n",
    "            >= \n",
    "            Z,\n",
    "            name=str(_name)\n",
    "        )\n",
    "        _name='cap',k,link[1],link[0]\n",
    "        m.addConstr (\n",
    "            net.links[link][1] - quicksum ( var_y[i] * problem.groups[ i[2]-1 ].traffic\n",
    "                                           for i in tuplelist (var_y).select (link[1],link[0],'*') ) \n",
    "            >= \n",
    "            Z,\n",
    "            name=str(_name)\n",
    "        )\n",
    "m.update ()        "
   ]
  },
  {
   "cell_type": "markdown",
   "metadata": {},
   "source": [
    "# Função Objetivo"
   ]
  },
  {
   "cell_type": "code",
   "execution_count": 10,
   "metadata": {
    "collapsed": true
   },
   "outputs": [],
   "source": [
    "m.setObjective (Z, GRB.MAXIMIZE)\n",
    "m.update ()"
   ]
  },
  {
   "cell_type": "code",
   "execution_count": 11,
   "metadata": {
    "collapsed": false
   },
   "outputs": [
    {
     "name": "stdout",
     "output_type": "stream",
     "text": [
      "Warning: variable name \"(5, 9, 1, 23)\" has a space\n",
      "Warning: constraint name \"('flow1', 1, 23)\" has a space\n",
      "Warning: to let Gurobi read it back, use rlp format\n"
     ]
    }
   ],
   "source": [
    "m.write('Zmodel.lp')"
   ]
  },
  {
   "cell_type": "code",
   "execution_count": 12,
   "metadata": {
    "collapsed": false
   },
   "outputs": [
    {
     "name": "stdout",
     "output_type": "stream",
     "text": [
      "Optimize a model with 5432 rows, 4441 columns and 18728 nonzeros\n",
      "Coefficient statistics:\n",
      "  Matrix range    [1e+00, 1e+01]\n",
      "  Objective range [1e+00, 1e+00]\n",
      "  Bounds range    [1e+00, 1e+00]\n",
      "  RHS range       [1e+00, 1e+02]\n",
      "Found heuristic solution: objective 12\n",
      "Presolve removed 1578 rows and 679 columns\n",
      "Presolve time: 0.04s\n",
      "Presolved: 3854 rows, 3762 columns, 12819 nonzeros\n",
      "Variable types: 0 continuous, 3762 integer (3441 binary)\n",
      "\n",
      "Root relaxation: objective 3.340000e+01, 928 iterations, 0.02 seconds\n",
      "\n",
      "    Nodes    |    Current Node    |     Objective Bounds      |     Work\n",
      " Expl Unexpl |  Obj  Depth IntInf | Incumbent    BestBd   Gap | It/Node Time\n",
      "\n",
      "     0     0   33.40000    0   18   12.00000   33.40000   178%     -    0s\n",
      "H    0     0                      25.0000000   33.40000  33.6%     -    0s\n",
      "H    0     0                      27.0000000   33.40000  23.7%     -    0s\n",
      "     0     0   33.00000    0   42   27.00000   33.00000  22.2%     -    0s\n",
      "H    0     0                      28.0000000   33.00000  17.9%     -    0s\n",
      "H    0     0                      30.0000000   33.00000  10.0%     -    0s\n",
      "     0     0   32.67742    0   51   30.00000   32.67742  8.92%     -    0s\n",
      "H    0     0                      31.0000000   32.67742  5.41%     -    0s\n",
      "H    0     0                      32.0000000   32.67742  2.12%     -    0s\n",
      "\n",
      "Cutting planes:\n",
      "  Gomory: 2\n",
      "  Cover: 2\n",
      "  Clique: 5\n",
      "  MIR: 1\n",
      "\n",
      "Explored 0 nodes (1669 simplex iterations) in 0.18 seconds\n",
      "Thread count was 2 (of 4 available processors)\n",
      "\n",
      "Optimal solution found (tolerance 1.00e-04)\n",
      "Best objective 3.200000000000e+01, best bound 3.200000000000e+01, gap 0.0%\n"
     ]
    }
   ],
   "source": [
    "m.optimize ()"
   ]
  },
  {
   "cell_type": "markdown",
   "metadata": {
    "collapsed": false
   },
   "source": [
    "## Imprimindo solução no formato para avaliação"
   ]
  },
  {
   "cell_type": "code",
   "execution_count": 13,
   "metadata": {
    "collapsed": false
   },
   "outputs": [],
   "source": [
    "for var in [x for x in tuplelist (var_y).select () if var_y[x].getAttr ('X') == 1.0]:\n",
    "    #print str(var)+\"=\"+ str(1)\n",
    "    pass\n",
    "\n",
    "list =  [x for x in tuplelist (var_y).select () if var_y[x].getAttr ('X') == 1.0]\n",
    "\n",
    "list = sorted (list, key=lambda tuple: tuple[2] )\n",
    "\n",
    "\n",
    "with open('out.opt','a') as f:\n",
    "    for var in list:\n",
    "        f.write (\"%s - %s:%s;\\n\" % (var[0],var[1],var[2]))\n"
   ]
  },
  {
   "cell_type": "code",
   "execution_count": null,
   "metadata": {
    "collapsed": true
   },
   "outputs": [],
   "source": []
  }
 ],
 "metadata": {
  "kernelspec": {
   "display_name": "Python 2",
   "language": "python",
   "name": "python2"
  },
  "language_info": {
   "codemirror_mode": {
    "name": "ipython",
    "version": 2
   },
   "file_extension": ".py",
   "mimetype": "text/x-python",
   "name": "python",
   "nbconvert_exporter": "python",
   "pygments_lexer": "ipython2",
   "version": "2.7.6"
  }
 },
 "nbformat": 4,
 "nbformat_minor": 0
}
